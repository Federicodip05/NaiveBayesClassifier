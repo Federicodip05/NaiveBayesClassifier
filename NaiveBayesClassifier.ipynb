{
  "cells": [
    {
      "cell_type": "code",
      "execution_count": null,
      "metadata": {
        "id": "car8L4T_tjUu"
      },
      "outputs": [],
      "source": [
        "#   September 2020\n",
        "#   @Authors: Federicodip05, eugeniafontecha"
      ]
    },
    {
      "cell_type": "markdown",
      "metadata": {
        "id": "9XNYRQvEtjUz"
      },
      "source": [
        "# Naïve Bayes"
      ]
    },
    {
      "cell_type": "code",
      "execution_count": null,
      "metadata": {
        "id": "LikNsi5HCqvW"
      },
      "outputs": [],
      "source": [
        "import pandas as pd\n",
        "import numpy as np\n",
        "from sklearn.model_selection import train_test_split\n",
        "import unicodedata\n",
        "import re\n",
        "import matplotlib.pyplot as plt\n",
        "df = pd.read_excel('PreferenciasBritanicos(1).xlsx',engine='openpyxl')\n",
        "df_not = pd.read_excel('Noticias_argentinas.xlsx',engine='openpyxl')\n",
        "df_admision = pd.read_csv('binary.csv')\n"
      ]
    },
    {
      "cell_type": "markdown",
      "metadata": {
        "id": "35rpj4xLn2rH"
      },
      "source": [
        "# Ejercicio 1\n",
        "\n",
        "**Probabilidades condicionales**\n",
        "\n",
        "Una estación de radio tiene dos grupos de oyentes, los jóvenes y los viejos. \n",
        "Se sabe que si el oyente es joven hay una probabilidad del 95 % de que le guste el programa 1, una probabilidad del 5 % de que le guste el programa 2, una probabilidad del 2 % de que le guste programa 3 y una probabilidad del 20 % de que le guste el programa 4.\n",
        "Por otro lado, si el oyente es viejo, hay una probabiliad del 3 % de que le guste el programa 1, una probabilidad del 82 % de que le guste el programa 2, una probabilidad del 34 % de que le guste el programa 3 y una probabilidaddel 92 % deque le guste el programa 4. \n",
        "Se sabe también que el 90 % de los oyentes son viejos.\n",
        "Un nuevo oyente escucha los programas 1 y 3 pero no le gustan los programas 2 y 4.\n",
        "Calcular la probabilidad de que este oyente sea joven y la probabilidad de que sea viejo."
      ]
    },
    {
      "cell_type": "markdown",
      "metadata": {
        "id": "K8zGSlQhoqkV"
      },
      "source": [
        "---\n",
        "Jóvenes: 0.10 = **P_Joven** -> Probabilidad de ser joven\n",
        "\n",
        "Programa 1: 0.95 = **P_P1J** -> Probabilidad de que le guste P1 dado que es joven\n",
        "\n",
        "Programa 2: 0.05 = **P_P2J** -> Probabilidad de que le guste P2 dado que es joven\n",
        "\n",
        "Programa 3: 0.02 = **P_P3J** -> Probabilidad de que le guste P3 dado que es joven\n",
        "\n",
        "Programa 4: 0.20 = **P_P4J** -> Probabilidad de que le guste P4 dado que es joven\n",
        "\n",
        "---\n",
        "\n",
        "Viejos: 0.90 = **P_Viejo** -> Probabilidad de ser viejo\n",
        "\n",
        "Programa 1: 0.03 = **P_P1V** -> Probabilidad de que le guste P1 dado que es viejo\n",
        "\n",
        "Programa 2: 0.82 = **P_P2V** -> Probabilidad de que le guste P2 dado que es viejo\n",
        "\n",
        "Programa 3: 0.34 = **P_P3V** -> Probabilidad de que le guste P3 dado que es viejo\n",
        "\n",
        "Programa 4: 0.92 = **P_P4J** -> Probabilidad de que le guste P4 dado que es viejo\n",
        "\n",
        "---"
      ]
    },
    {
      "cell_type": "code",
      "execution_count": null,
      "metadata": {
        "id": "C6otPbbVrRhR"
      },
      "outputs": [],
      "source": [
        "P_Viejo= 0.90\n",
        "P_P1V= 0.03\n",
        "P_P2V= 0.82\n",
        "P_P3V= 0.34\n",
        "P_P4V= 0.92\n",
        "\n",
        "P_Joven= 0.10\n",
        "P_P1J= 0.95\n",
        "P_P2J= 0.05\n",
        "P_P3J= 0.02\n",
        "P_P4J= 0.20"
      ]
    },
    {
      "cell_type": "markdown",
      "metadata": {
        "id": "6RbO8_STyNYq"
      },
      "source": [
        "**P_ProgramasOyenteJoven** -> P(joven^1,3,\\~2,\\~4) = P(1,3,\\~2,\\~4|joven)*P(joven)  Probabilidad de ser joven y tener esos gustos\n",
        "\n",
        "**P_ProgramasOyenteViejo** -> P(viejo^1,3,\\~2,\\~4) = P(1,3,\\~2,\\~4|viejo)*P(viejo) Probabilidad de ser viejo y tener esos gustos\n"
      ]
    },
    {
      "cell_type": "code",
      "execution_count": null,
      "metadata": {
        "colab": {
          "base_uri": "https://localhost:8080/"
        },
        "id": "Lac2yEkbyvL7",
        "outputId": "a37da3eb-aaf1-49ec-c8f7-ebce861d0bf5"
      },
      "outputs": [
        {
          "name": "stdout",
          "output_type": "stream",
          "text": [
            "P_ProgramasOyenteJoven: 0.0014440000000000002\n",
            "P_ProgramasOyenteViejo: 0.00013219199999999997\n"
          ]
        }
      ],
      "source": [
        "P_NP2J= 1 - P_P2J\n",
        "P_NP4J= 1 - P_P4J\n",
        "\n",
        "#Suponiendo que las variables son independientes (dada la clase joven):\n",
        "P_ProgramasOyenteJoven = P_P1J * P_P3J * P_NP2J * P_NP4J*P_Joven\n",
        "\n",
        "print('P_ProgramasOyenteJoven: ' + str(P_ProgramasOyenteJoven))\n",
        "\n",
        "P_NP2V= 1 - P_P2V\n",
        "P_NP4V= 1 - P_P4V\n",
        "\n",
        "#Suponiendo que las variables son independientes (dada la clase viejo):\n",
        "P_ProgramasOyenteViejo = P_P1V * P_P3V * P_NP2V * P_NP4V*P_Viejo\n",
        "\n",
        "print('P_ProgramasOyenteViejo: ' + str(P_ProgramasOyenteViejo))\n"
      ]
    },
    {
      "cell_type": "markdown",
      "metadata": {
        "id": "4SJbO90YrAb-"
      },
      "source": [
        "Por el teorema de la probabilidad total:\n",
        "\n",
        "P(1,3,\\~2,\\~4) = P(1,3,\\~2,\\~4|joven)\\*P_Joven + P(1,3,\\~2,\\~4|viejo)\\*P_Viejo -> **P_ProgramasOyente**\n",
        "\n"
      ]
    },
    {
      "cell_type": "code",
      "execution_count": null,
      "metadata": {
        "colab": {
          "base_uri": "https://localhost:8080/"
        },
        "id": "cq3rxEBAlkty",
        "outputId": "89436d83-eac2-445b-f28d-38c0f139ee1a"
      },
      "outputs": [
        {
          "name": "stdout",
          "output_type": "stream",
          "text": [
            "0.0015761920000000001\n"
          ]
        }
      ],
      "source": [
        "P_ProgramasOyente = (P_P1J * P_P3J * (1- P_P2J) * (1- P_P4J)) * P_Joven + (P_P1V * P_P3V * (1- P_P2V) * (1- P_P4V)) * P_Viejo\n",
        "print(P_ProgramasOyente)"
      ]
    },
    {
      "cell_type": "markdown",
      "metadata": {
        "id": "t3aa3i4Zx5r8"
      },
      "source": [
        "Calculamos la probabilidad de cada clase dados los gustos de programas.\n",
        "\n",
        "**P_OyenteJoven** -> P(joven|1,3,\\~2,\\~4) = P(joven^1,3,\\~2,\\~4)/P(1,3,\\~2,\\~4)\n",
        "\n",
        "**P_OyenteViejo** -> P(viejo|1,3,\\~2,\\~4) = P(viejo^1,3,\\~2,\\~4)/P(1,3,\\~2,\\~4)"
      ]
    },
    {
      "cell_type": "code",
      "execution_count": null,
      "metadata": {
        "colab": {
          "base_uri": "https://localhost:8080/",
          "height": 72
        },
        "id": "-32KcMfOzLt0",
        "outputId": "017dade8-5880-43d8-8579-c0f2379f191d"
      },
      "outputs": [
        {
          "name": "stdout",
          "output_type": "stream",
          "text": [
            "Probabilidad de que el oyente sea joven: 91.61%\n",
            "\n",
            "Probabilidad de que el oyente sea viejo: 8.39%\n"
          ]
        }
      ],
      "source": [
        "P_OyenteJoven= P_ProgramasOyenteJoven/P_ProgramasOyente\n",
        "\n",
        "P_OyenteViejo= P_ProgramasOyenteViejo/P_ProgramasOyente\n",
        "\n",
        "print('Probabilidad de que el oyente sea joven: ' + str(round(P_OyenteJoven*100,2)) + '%')\n",
        "\n",
        "print('\\nProbabilidad de que el oyente sea viejo: ' + str(round(P_OyenteViejo*100,2)) + '%')"
      ]
    },
    {
      "cell_type": "markdown",
      "metadata": {
        "id": "dTySNhBg9x9p"
      },
      "source": [
        "# Ejercicio 2\n",
        "\n",
        "**Clasificador ingenuo de Bayes**\n",
        "\n",
        "Consideremos el siguiente vector de atributos binarios:\n",
        "\n",
        "        (scones, cerveza, whisky, avena, futbol)\n",
        "\n",
        "El vector x = (1, 0, 1, 1, 0) significa que se trata de una persona que le gustan los scones,\n",
        "no toma cerveza, le gusta el whisky y la avena pero no ve futbol. En el archivo PreferenciasBritanicos.xls se encuentran las preferencias de 6 personas inglesas y 7 personas\n",
        "escocesas.\n",
        "\n",
        "a) Implementar el clasificador ingenuo de Bayes.\n",
        "\n",
        "b) Clasificar el ejemplo x = (1, 0, 1, 1, 0) determinando si corresponde a las preferencias\n",
        "de una persona inglesa o escosesa."
      ]
    },
    {
      "cell_type": "code",
      "execution_count": null,
      "metadata": {
        "colab": {
          "base_uri": "https://localhost:8080/",
          "height": 457
        },
        "id": "1ohoam9GDQ5S",
        "outputId": "5e73aa32-6bf8-4b64-9de5-d95de43b768e"
      },
      "outputs": [
        {
          "data": {
            "text/html": [
              "<div>\n",
              "<style scoped>\n",
              "    .dataframe tbody tr th:only-of-type {\n",
              "        vertical-align: middle;\n",
              "    }\n",
              "\n",
              "    .dataframe tbody tr th {\n",
              "        vertical-align: top;\n",
              "    }\n",
              "\n",
              "    .dataframe thead th {\n",
              "        text-align: right;\n",
              "    }\n",
              "</style>\n",
              "<table border=\"1\" class=\"dataframe\">\n",
              "  <thead>\n",
              "    <tr style=\"text-align: right;\">\n",
              "      <th></th>\n",
              "      <th>scones</th>\n",
              "      <th>cerveza</th>\n",
              "      <th>wiskey</th>\n",
              "      <th>avena</th>\n",
              "      <th>futbol</th>\n",
              "      <th>Nacionalidad</th>\n",
              "    </tr>\n",
              "  </thead>\n",
              "  <tbody>\n",
              "    <tr>\n",
              "      <th>0</th>\n",
              "      <td>0</td>\n",
              "      <td>0</td>\n",
              "      <td>1</td>\n",
              "      <td>1</td>\n",
              "      <td>1</td>\n",
              "      <td>I</td>\n",
              "    </tr>\n",
              "    <tr>\n",
              "      <th>1</th>\n",
              "      <td>1</td>\n",
              "      <td>0</td>\n",
              "      <td>1</td>\n",
              "      <td>1</td>\n",
              "      <td>0</td>\n",
              "      <td>I</td>\n",
              "    </tr>\n",
              "    <tr>\n",
              "      <th>2</th>\n",
              "      <td>1</td>\n",
              "      <td>1</td>\n",
              "      <td>0</td>\n",
              "      <td>0</td>\n",
              "      <td>1</td>\n",
              "      <td>I</td>\n",
              "    </tr>\n",
              "    <tr>\n",
              "      <th>3</th>\n",
              "      <td>1</td>\n",
              "      <td>1</td>\n",
              "      <td>0</td>\n",
              "      <td>0</td>\n",
              "      <td>0</td>\n",
              "      <td>I</td>\n",
              "    </tr>\n",
              "    <tr>\n",
              "      <th>4</th>\n",
              "      <td>0</td>\n",
              "      <td>1</td>\n",
              "      <td>0</td>\n",
              "      <td>0</td>\n",
              "      <td>1</td>\n",
              "      <td>I</td>\n",
              "    </tr>\n",
              "    <tr>\n",
              "      <th>5</th>\n",
              "      <td>0</td>\n",
              "      <td>0</td>\n",
              "      <td>0</td>\n",
              "      <td>1</td>\n",
              "      <td>0</td>\n",
              "      <td>I</td>\n",
              "    </tr>\n",
              "    <tr>\n",
              "      <th>6</th>\n",
              "      <td>1</td>\n",
              "      <td>0</td>\n",
              "      <td>0</td>\n",
              "      <td>1</td>\n",
              "      <td>1</td>\n",
              "      <td>E</td>\n",
              "    </tr>\n",
              "    <tr>\n",
              "      <th>7</th>\n",
              "      <td>1</td>\n",
              "      <td>1</td>\n",
              "      <td>0</td>\n",
              "      <td>0</td>\n",
              "      <td>1</td>\n",
              "      <td>E</td>\n",
              "    </tr>\n",
              "    <tr>\n",
              "      <th>8</th>\n",
              "      <td>1</td>\n",
              "      <td>1</td>\n",
              "      <td>1</td>\n",
              "      <td>1</td>\n",
              "      <td>0</td>\n",
              "      <td>E</td>\n",
              "    </tr>\n",
              "    <tr>\n",
              "      <th>9</th>\n",
              "      <td>1</td>\n",
              "      <td>1</td>\n",
              "      <td>0</td>\n",
              "      <td>1</td>\n",
              "      <td>0</td>\n",
              "      <td>E</td>\n",
              "    </tr>\n",
              "    <tr>\n",
              "      <th>10</th>\n",
              "      <td>1</td>\n",
              "      <td>1</td>\n",
              "      <td>0</td>\n",
              "      <td>1</td>\n",
              "      <td>1</td>\n",
              "      <td>E</td>\n",
              "    </tr>\n",
              "    <tr>\n",
              "      <th>11</th>\n",
              "      <td>1</td>\n",
              "      <td>0</td>\n",
              "      <td>1</td>\n",
              "      <td>1</td>\n",
              "      <td>0</td>\n",
              "      <td>E</td>\n",
              "    </tr>\n",
              "    <tr>\n",
              "      <th>12</th>\n",
              "      <td>1</td>\n",
              "      <td>0</td>\n",
              "      <td>1</td>\n",
              "      <td>0</td>\n",
              "      <td>0</td>\n",
              "      <td>E</td>\n",
              "    </tr>\n",
              "  </tbody>\n",
              "</table>\n",
              "</div>"
            ],
            "text/plain": [
              "    scones  cerveza  wiskey  avena  futbol Nacionalidad\n",
              "0        0        0       1      1       1            I\n",
              "1        1        0       1      1       0            I\n",
              "2        1        1       0      0       1            I\n",
              "3        1        1       0      0       0            I\n",
              "4        0        1       0      0       1            I\n",
              "5        0        0       0      1       0            I\n",
              "6        1        0       0      1       1            E\n",
              "7        1        1       0      0       1            E\n",
              "8        1        1       1      1       0            E\n",
              "9        1        1       0      1       0            E\n",
              "10       1        1       0      1       1            E\n",
              "11       1        0       1      1       0            E\n",
              "12       1        0       1      0       0            E"
            ]
          },
          "execution_count": 12,
          "metadata": {},
          "output_type": "execute_result"
        }
      ],
      "source": [
        "#Datos\n",
        "df"
      ]
    },
    {
      "cell_type": "code",
      "execution_count": null,
      "metadata": {
        "id": "KiaCW1SCtjU9",
        "outputId": "3fed2900-60a7-4c50-9c5c-ee976203da21"
      },
      "outputs": [
        {
          "name": "stdout",
          "output_type": "stream",
          "text": [
            "<class 'pandas.core.frame.DataFrame'>\n",
            "RangeIndex: 13 entries, 0 to 12\n",
            "Data columns (total 6 columns):\n",
            " #   Column        Non-Null Count  Dtype \n",
            "---  ------        --------------  ----- \n",
            " 0   scones        13 non-null     int64 \n",
            " 1   cerveza       13 non-null     int64 \n",
            " 2   wiskey        13 non-null     int64 \n",
            " 3   avena         13 non-null     int64 \n",
            " 4   futbol        13 non-null     int64 \n",
            " 5   Nacionalidad  13 non-null     object\n",
            "dtypes: int64(5), object(1)\n",
            "memory usage: 752.0+ bytes\n",
            "None\n"
          ]
        }
      ],
      "source": [
        "print(df.info())"
      ]
    },
    {
      "cell_type": "markdown",
      "metadata": {
        "id": "4tpfuZLoXlaY"
      },
      "source": [
        "### Implementación del clasificador ingenuo de Bayes"
      ]
    },
    {
      "cell_type": "code",
      "execution_count": null,
      "metadata": {
        "id": "gPqGOWW9XSY8"
      },
      "outputs": [],
      "source": [
        "#implementación del clasificador ingenuo de Bayes\n",
        "dic = {}\n",
        "#para cada una de las clases (E y I) sumamos las preferencias de las personas\n",
        "#para cada uno de los atributos\n",
        "\n",
        "for i in df.index: #recorremos todos los registros\n",
        "  nac = df.loc[i,'Nacionalidad']\n",
        "  if nac not in dic.keys():\n",
        "    dic[nac] = (df.loc[i,'scones':'futbol'].values, 1)\n",
        "  else:\n",
        "    dic[nac] = (dic[nac][0] + df.loc[i,'scones':'futbol'].values, dic[nac][1] + 1)\n",
        "\n",
        "#en el diccionario nos quedan guardadas dos entradas, una para cada clase. Cada una\n",
        "#tiene una tupla, donde el primer el elementos es el vector de atributos totales\n",
        "#y el segundo la frecuencia absoluta de la clase\n",
        "\n",
        "#ahora dividimos el primer elemento por la cantidad de total de registros de la clase,\n",
        "#y el segundo por la cantidad total de registros\n",
        "\n",
        "for k in dic.keys():\n",
        "  dic[k] = (dic[k][0]/dic[k][1], dic[k][1]/len(df.index))\n"
      ]
    },
    {
      "cell_type": "markdown",
      "metadata": {
        "id": "5h_KI8dUZWwP"
      },
      "source": [
        "### Clasificación del  ejemplo x = (1, 0, 1, 1, 0)"
      ]
    },
    {
      "cell_type": "code",
      "execution_count": null,
      "metadata": {
        "colab": {
          "base_uri": "https://localhost:8080/",
          "height": 35
        },
        "id": "kTD5JobMtOWM",
        "outputId": "21f2bde1-69c2-4090-a9e4-52793f2fe3c5"
      },
      "outputs": [
        {
          "name": "stdout",
          "output_type": "stream",
          "text": [
            "Clase más probable: E\n"
          ]
        }
      ],
      "source": [
        "#caso a analizar:\n",
        "x = np.array([1,0,1,1,0])\n",
        "\n",
        "nb = {}\n",
        "\n",
        "for k in dic.keys(): #por cada clase\n",
        "  p = 1 #p va a ser la probabilidad de los atributos de x dada la clase k\n",
        "\n",
        "  for i in range(len(x)): #por cada atributo\n",
        "    if x[i] == 1:\n",
        "      p = p*dic[k][0][i]\n",
        "    else:\n",
        "      p = p*(1-dic[k][0][i])\n",
        "  nb[k] = p*dic[k][1] #probabilidad de los atributos de x dada la clase k * probabilidad de la clase k\n",
        "\n",
        "#para ver cuál es la clase más probable comparamos ambos valores y nos quedamos con el máximo\n",
        "rev_nb = dict(map(reversed, nb.items()))\n",
        "print('Clase más probable: ' + rev_nb[max(rev_nb.keys())]) "
      ]
    },
    {
      "cell_type": "markdown",
      "metadata": {
        "id": "i4GeqbdkfT8K"
      },
      "source": [
        "# Ejercicio 3\n",
        "\n",
        "Implementar un clasificador de texto utilizando el clasificador ingenuo de Bayes. Utilizar\n",
        "el conjunto de datos ”Noticias Argentinas” para clasificar cada noticia según su tipo.\n",
        "\n",
        "\n",
        "\n",
        "1.   Utilizar al menos 4 categorías. Dividir el conjunto de textos disponible para utilizar\n",
        "una parte de los mismos como conjunto de entrenamiento y otro como conjunto test.\n",
        "2.   Construir la matriz de confusión.\n",
        "3.   Calcular las medidas de evaluación Accuracy, Precisión, tasa de verdaderos positivos, tasa de falsos positivos y F1-score.\n",
        "4.   Calcular la curva ROC.\n"
      ]
    },
    {
      "cell_type": "code",
      "execution_count": null,
      "metadata": {
        "colab": {
          "base_uri": "https://localhost:8080/",
          "height": 633
        },
        "id": "95onmyUIhv65",
        "outputId": "25c40175-3483-4292-ecb9-7832e9fe89fc"
      },
      "outputs": [
        {
          "data": {
            "text/html": [
              "<div>\n",
              "<style scoped>\n",
              "    .dataframe tbody tr th:only-of-type {\n",
              "        vertical-align: middle;\n",
              "    }\n",
              "\n",
              "    .dataframe tbody tr th {\n",
              "        vertical-align: top;\n",
              "    }\n",
              "\n",
              "    .dataframe thead th {\n",
              "        text-align: right;\n",
              "    }\n",
              "</style>\n",
              "<table border=\"1\" class=\"dataframe\">\n",
              "  <thead>\n",
              "    <tr style=\"text-align: right;\">\n",
              "      <th></th>\n",
              "      <th>fecha</th>\n",
              "      <th>titular</th>\n",
              "      <th>fuente</th>\n",
              "      <th>categoria</th>\n",
              "      <th>Unnamed: 4</th>\n",
              "      <th>Internacional</th>\n",
              "      <th>3850</th>\n",
              "    </tr>\n",
              "  </thead>\n",
              "  <tbody>\n",
              "    <tr>\n",
              "      <th>0</th>\n",
              "      <td>2018-11-14 09:08:34</td>\n",
              "      <td>Trabajadores del Buenos Aires Design cortan la...</td>\n",
              "      <td>Infobae.com</td>\n",
              "      <td>Nacional</td>\n",
              "      <td>NaN</td>\n",
              "      <td>Nacional</td>\n",
              "      <td>3860.0</td>\n",
              "    </tr>\n",
              "    <tr>\n",
              "      <th>1</th>\n",
              "      <td>2018-11-13 14:14:48</td>\n",
              "      <td>La boda del gobernador Gerardo Morales: tapas ...</td>\n",
              "      <td>Clarín.com</td>\n",
              "      <td>Nacional</td>\n",
              "      <td>NaN</td>\n",
              "      <td>Destacadas</td>\n",
              "      <td>3859.0</td>\n",
              "    </tr>\n",
              "    <tr>\n",
              "      <th>2</th>\n",
              "      <td>2018-11-14 10:08:19</td>\n",
              "      <td>Cumbre del G20: qué calles estarán cortadas y ...</td>\n",
              "      <td>iprofesional.com</td>\n",
              "      <td>Nacional</td>\n",
              "      <td>NaN</td>\n",
              "      <td>Deportes</td>\n",
              "      <td>3855.0</td>\n",
              "    </tr>\n",
              "    <tr>\n",
              "      <th>3</th>\n",
              "      <td>2018-11-14 02:02:13</td>\n",
              "      <td>Una fractura que confirma la candidatura de Cr...</td>\n",
              "      <td>LA NACION (Argentina.)</td>\n",
              "      <td>Nacional</td>\n",
              "      <td>NaN</td>\n",
              "      <td>Salud</td>\n",
              "      <td>3840.0</td>\n",
              "    </tr>\n",
              "    <tr>\n",
              "      <th>4</th>\n",
              "      <td>2018-11-14 09:03:06</td>\n",
              "      <td>Infierno grande: ola de divorcios en un pueblo...</td>\n",
              "      <td>Diario El Día</td>\n",
              "      <td>Nacional</td>\n",
              "      <td>NaN</td>\n",
              "      <td>Ciencia y Tecnologia</td>\n",
              "      <td>3856.0</td>\n",
              "    </tr>\n",
              "  </tbody>\n",
              "</table>\n",
              "</div>"
            ],
            "text/plain": [
              "                fecha                                            titular  \\\n",
              "0 2018-11-14 09:08:34  Trabajadores del Buenos Aires Design cortan la...   \n",
              "1 2018-11-13 14:14:48  La boda del gobernador Gerardo Morales: tapas ...   \n",
              "2 2018-11-14 10:08:19  Cumbre del G20: qué calles estarán cortadas y ...   \n",
              "3 2018-11-14 02:02:13  Una fractura que confirma la candidatura de Cr...   \n",
              "4 2018-11-14 09:03:06  Infierno grande: ola de divorcios en un pueblo...   \n",
              "\n",
              "                   fuente categoria  Unnamed: 4         Internacional    3850  \n",
              "0             Infobae.com  Nacional         NaN              Nacional  3860.0  \n",
              "1              Clarín.com  Nacional         NaN            Destacadas  3859.0  \n",
              "2        iprofesional.com  Nacional         NaN              Deportes  3855.0  \n",
              "3  LA NACION (Argentina.)  Nacional         NaN                 Salud  3840.0  \n",
              "4           Diario El Día  Nacional         NaN  Ciencia y Tecnologia  3856.0  "
            ]
          },
          "execution_count": 9,
          "metadata": {},
          "output_type": "execute_result"
        }
      ],
      "source": [
        "df_not.head()\n"
      ]
    },
    {
      "cell_type": "code",
      "execution_count": null,
      "metadata": {
        "id": "eoyjR2IPmpX-"
      },
      "outputs": [],
      "source": [
        "#Descartamos las últimas 3 columnas\n",
        "df_not = df_not.loc[:,'fecha':'categoria']"
      ]
    },
    {
      "cell_type": "code",
      "execution_count": null,
      "metadata": {
        "id": "SVLtnXHDtjVA",
        "outputId": "9c2b7a0b-9ebe-46ab-de57-3241d4c81e42"
      },
      "outputs": [
        {
          "name": "stdout",
          "output_type": "stream",
          "text": [
            "<class 'pandas.core.frame.DataFrame'>\n",
            "RangeIndex: 164690 entries, 0 to 164689\n",
            "Data columns (total 4 columns):\n",
            " #   Column     Non-Null Count   Dtype         \n",
            "---  ------     --------------   -----         \n",
            " 0   fecha      164690 non-null  datetime64[ns]\n",
            " 1   titular    164690 non-null  object        \n",
            " 2   fuente     164641 non-null  object        \n",
            " 3   categoria  164639 non-null  object        \n",
            "dtypes: datetime64[ns](1), object(3)\n",
            "memory usage: 5.0+ MB\n",
            "None\n"
          ]
        }
      ],
      "source": [
        "print(df_not.info())"
      ]
    },
    {
      "cell_type": "markdown",
      "metadata": {
        "id": "2Tyc-ubSr65Q"
      },
      "source": [
        "## Selección de categorías \n",
        "Vamos a trabajar con 4 categorías: Nacional, Salud, Deportes, Economía. Nos quedamos solo con las noticias que sean de esas categorías. \n",
        "Luego, dividimos el dataframe en un conjunto de entrenamiento y otro de testeo"
      ]
    },
    {
      "cell_type": "code",
      "execution_count": null,
      "metadata": {
        "id": "VVt5yS3hrmKW"
      },
      "outputs": [],
      "source": [
        "#Nos quedamos con las categorias: Nacional, Salud, Deportes, Economia\n",
        "df_not = df_not.loc[df_not['categoria'].isin(['Nacional','Salud', 'Deportes', 'Economia'])]\n",
        "\n",
        "df_not\n",
        "\n",
        "# Eliminamos mayúsculas y caracteres especiales (tildes, diéresis,etc)\n",
        "\n",
        "for i in df_not.index: #para cada noticia\n",
        "  s= df_not.loc[i,'titular'].lower() #pasamos el titular a minúscula\n",
        "  s1= s.replace(\"ñ\", \"\\\\\") #reemplazamos temporalmente la ñ para que sea convetida a 'n'\n",
        "  #Elininamos tildes y diéresis y volvemos a colocar las 'ñ'\n",
        "  s2= unicodedata.normalize(\"NFKD\", s1).encode(\"ascii\",\"ignore\").decode(\"ascii\").replace(\"\\\\\", \"ñ\")\n",
        "  df_not.loc[i,'titular'] = s2 #guardamos en el dataframe\n",
        "\n",
        "#separamos los datos en conjunto de entrenamiento y testeo (75% y 25%)\n",
        "df_train, df_test = train_test_split(df_not, random_state = 0)"
      ]
    },
    {
      "cell_type": "code",
      "execution_count": null,
      "metadata": {
        "colab": {
          "base_uri": "https://localhost:8080/",
          "height": 442
        },
        "id": "wpZBU2bryUMZ",
        "outputId": "56b3ec68-2796-4510-c21a-61b50f8b3fdc"
      },
      "outputs": [
        {
          "name": "stdout",
          "output_type": "stream",
          "text": [
            "Comprobamos que el conjunto de entrenamiento se generó correctamente\n"
          ]
        },
        {
          "data": {
            "text/html": [
              "<div>\n",
              "<style scoped>\n",
              "    .dataframe tbody tr th:only-of-type {\n",
              "        vertical-align: middle;\n",
              "    }\n",
              "\n",
              "    .dataframe tbody tr th {\n",
              "        vertical-align: top;\n",
              "    }\n",
              "\n",
              "    .dataframe thead th {\n",
              "        text-align: right;\n",
              "    }\n",
              "</style>\n",
              "<table border=\"1\" class=\"dataframe\">\n",
              "  <thead>\n",
              "    <tr style=\"text-align: right;\">\n",
              "      <th></th>\n",
              "      <th>fecha</th>\n",
              "      <th>titular</th>\n",
              "      <th>fuente</th>\n",
              "      <th>categoria</th>\n",
              "    </tr>\n",
              "  </thead>\n",
              "  <tbody>\n",
              "    <tr>\n",
              "      <th>6449</th>\n",
              "      <td>2018-11-22 18:38:00</td>\n",
              "      <td>asltimos dias para vacunarse contra el sarampi...</td>\n",
              "      <td>TiempoSur Diario Digital</td>\n",
              "      <td>Salud</td>\n",
              "    </tr>\n",
              "    <tr>\n",
              "      <th>10761</th>\n",
              "      <td>2018-11-24 19:50:12</td>\n",
              "      <td>river-boca: las huellas de la agresion a pablo...</td>\n",
              "      <td>Clarín.com</td>\n",
              "      <td>Deportes</td>\n",
              "    </tr>\n",
              "    <tr>\n",
              "      <th>27466</th>\n",
              "      <td>2018-12-03 22:14:18</td>\n",
              "      <td>la furia de la hermana de cristiano ronaldo po...</td>\n",
              "      <td>Infobae.com</td>\n",
              "      <td>Deportes</td>\n",
              "    </tr>\n",
              "    <tr>\n",
              "      <th>26585</th>\n",
              "      <td>2018-12-03 00:14:07</td>\n",
              "      <td>con la cabeza en madrid, boca se llevo un triu...</td>\n",
              "      <td>Clarín.com</td>\n",
              "      <td>Deportes</td>\n",
              "    </tr>\n",
              "    <tr>\n",
              "      <th>26085</th>\n",
              "      <td>2018-12-03 06:19:44</td>\n",
              "      <td>apuntan a un allegado de la mujer asesinada a ...</td>\n",
              "      <td>Diario UNO de Entre Ríos</td>\n",
              "      <td>Nacional</td>\n",
              "    </tr>\n",
              "    <tr>\n",
              "      <th>...</th>\n",
              "      <td>...</td>\n",
              "      <td>...</td>\n",
              "      <td>...</td>\n",
              "      <td>...</td>\n",
              "    </tr>\n",
              "    <tr>\n",
              "      <th>26248</th>\n",
              "      <td>2018-12-03 07:58:15</td>\n",
              "      <td>dos muertos dejo un accidente en san jose de l...</td>\n",
              "      <td>eldoce</td>\n",
              "      <td>Nacional</td>\n",
              "    </tr>\n",
              "    <tr>\n",
              "      <th>6519</th>\n",
              "      <td>2018-11-22 19:04:21</td>\n",
              "      <td>el 11 de river con juanfer o mora?</td>\n",
              "      <td>Olé</td>\n",
              "      <td>Deportes</td>\n",
              "    </tr>\n",
              "    <tr>\n",
              "      <th>19692</th>\n",
              "      <td>2018-11-29 20:32:13</td>\n",
              "      <td>crece la violencia en rosario: hubo cuatro cri...</td>\n",
              "      <td>Clarín.com</td>\n",
              "      <td>Nacional</td>\n",
              "    </tr>\n",
              "    <tr>\n",
              "      <th>21606</th>\n",
              "      <td>2018-11-30 20:24:12</td>\n",
              "      <td>alerta por tormentas fuertes y ocasional caida...</td>\n",
              "      <td>EL LITORAL</td>\n",
              "      <td>Nacional</td>\n",
              "    </tr>\n",
              "    <tr>\n",
              "      <th>5456</th>\n",
              "      <td>2018-11-22 10:04:00</td>\n",
              "      <td>convocan a un paro bancario para mañana</td>\n",
              "      <td>LA NACION (Argentina.)</td>\n",
              "      <td>Nacional</td>\n",
              "    </tr>\n",
              "  </tbody>\n",
              "</table>\n",
              "<p>11553 rows × 4 columns</p>\n",
              "</div>"
            ],
            "text/plain": [
              "                    fecha                                            titular  \\\n",
              "6449  2018-11-22 18:38:00  asltimos dias para vacunarse contra el sarampi...   \n",
              "10761 2018-11-24 19:50:12  river-boca: las huellas de la agresion a pablo...   \n",
              "27466 2018-12-03 22:14:18  la furia de la hermana de cristiano ronaldo po...   \n",
              "26585 2018-12-03 00:14:07  con la cabeza en madrid, boca se llevo un triu...   \n",
              "26085 2018-12-03 06:19:44  apuntan a un allegado de la mujer asesinada a ...   \n",
              "...                   ...                                                ...   \n",
              "26248 2018-12-03 07:58:15  dos muertos dejo un accidente en san jose de l...   \n",
              "6519  2018-11-22 19:04:21                 el 11 de river con juanfer o mora?   \n",
              "19692 2018-11-29 20:32:13  crece la violencia en rosario: hubo cuatro cri...   \n",
              "21606 2018-11-30 20:24:12  alerta por tormentas fuertes y ocasional caida...   \n",
              "5456  2018-11-22 10:04:00            convocan a un paro bancario para mañana   \n",
              "\n",
              "                         fuente categoria  \n",
              "6449   TiempoSur Diario Digital     Salud  \n",
              "10761                Clarín.com  Deportes  \n",
              "27466               Infobae.com  Deportes  \n",
              "26585                Clarín.com  Deportes  \n",
              "26085  Diario UNO de Entre Ríos  Nacional  \n",
              "...                         ...       ...  \n",
              "26248                    eldoce  Nacional  \n",
              "6519                        Olé  Deportes  \n",
              "19692                Clarín.com  Nacional  \n",
              "21606                EL LITORAL  Nacional  \n",
              "5456     LA NACION (Argentina.)  Nacional  \n",
              "\n",
              "[11553 rows x 4 columns]"
            ]
          },
          "execution_count": 14,
          "metadata": {},
          "output_type": "execute_result"
        }
      ],
      "source": [
        "print(\"Comprobamos que el conjunto de entrenamiento se generó correctamente\")\n",
        "df_train"
      ]
    },
    {
      "cell_type": "code",
      "execution_count": null,
      "metadata": {
        "colab": {
          "base_uri": "https://localhost:8080/",
          "height": 442
        },
        "id": "xTbU2yKNyWu6",
        "outputId": "7b07cadd-06c0-47ec-f3c2-20bdd319e8c7"
      },
      "outputs": [
        {
          "name": "stdout",
          "output_type": "stream",
          "text": [
            "Comprobamos que el conjunto de testeo se generó correctamente\n"
          ]
        },
        {
          "data": {
            "text/html": [
              "<div>\n",
              "<style scoped>\n",
              "    .dataframe tbody tr th:only-of-type {\n",
              "        vertical-align: middle;\n",
              "    }\n",
              "\n",
              "    .dataframe tbody tr th {\n",
              "        vertical-align: top;\n",
              "    }\n",
              "\n",
              "    .dataframe thead th {\n",
              "        text-align: right;\n",
              "    }\n",
              "</style>\n",
              "<table border=\"1\" class=\"dataframe\">\n",
              "  <thead>\n",
              "    <tr style=\"text-align: right;\">\n",
              "      <th></th>\n",
              "      <th>fecha</th>\n",
              "      <th>titular</th>\n",
              "      <th>fuente</th>\n",
              "      <th>categoria</th>\n",
              "    </tr>\n",
              "  </thead>\n",
              "  <tbody>\n",
              "    <tr>\n",
              "      <th>25226</th>\n",
              "      <td>2018-12-01 22:25:44</td>\n",
              "      <td>perdia por dos goles y lo dio vuelta: san mart...</td>\n",
              "      <td>Diario El Día</td>\n",
              "      <td>Deportes</td>\n",
              "    </tr>\n",
              "    <tr>\n",
              "      <th>4160</th>\n",
              "      <td>2018-11-21 18:57:40</td>\n",
              "      <td>la industria sufrio en octubre su sexta caida ...</td>\n",
              "      <td>Minutouno.com</td>\n",
              "      <td>Economia</td>\n",
              "    </tr>\n",
              "    <tr>\n",
              "      <th>3834</th>\n",
              "      <td>2018-11-21 11:41:58</td>\n",
              "      <td>tras dura caida, el merval repunta por recompr...</td>\n",
              "      <td>Ambito.com</td>\n",
              "      <td>Economia</td>\n",
              "    </tr>\n",
              "    <tr>\n",
              "      <th>28540</th>\n",
              "      <td>2018-12-04 10:57:18</td>\n",
              "      <td>tras fuerte caida, el dolar rebota 24 centavos...</td>\n",
              "      <td>Ambito.com</td>\n",
              "      <td>Economia</td>\n",
              "    </tr>\n",
              "    <tr>\n",
              "      <th>11683</th>\n",
              "      <td>2018-11-25 12:39:03</td>\n",
              "      <td>secheep explica sobre facturacion, costo de en...</td>\n",
              "      <td>Diario NORTE</td>\n",
              "      <td>Economia</td>\n",
              "    </tr>\n",
              "    <tr>\n",
              "      <th>...</th>\n",
              "      <td>...</td>\n",
              "      <td>...</td>\n",
              "      <td>...</td>\n",
              "      <td>...</td>\n",
              "    </tr>\n",
              "    <tr>\n",
              "      <th>18598</th>\n",
              "      <td>2018-11-29 06:25:56</td>\n",
              "      <td>dos millones de niños recibieron la vacuna con...</td>\n",
              "      <td>MDZ Online</td>\n",
              "      <td>Salud</td>\n",
              "    </tr>\n",
              "    <tr>\n",
              "      <th>16814</th>\n",
              "      <td>2018-11-27 22:56:12</td>\n",
              "      <td>empleados de comercio: gremio acordo aumento d...</td>\n",
              "      <td>iprofesional.com</td>\n",
              "      <td>Nacional</td>\n",
              "    </tr>\n",
              "    <tr>\n",
              "      <th>30404</th>\n",
              "      <td>2018-12-05 12:03:55</td>\n",
              "      <td>rafa di zeo, el lider historico de la barra de...</td>\n",
              "      <td>Clarín.com</td>\n",
              "      <td>Deportes</td>\n",
              "    </tr>\n",
              "    <tr>\n",
              "      <th>4925</th>\n",
              "      <td>2018-11-21 18:27:30</td>\n",
              "      <td>campaña de deteccion gratuita de artritis psor...</td>\n",
              "      <td>EL LITORAL</td>\n",
              "      <td>Salud</td>\n",
              "    </tr>\n",
              "    <tr>\n",
              "      <th>1246</th>\n",
              "      <td>2018-11-18 10:47:57</td>\n",
              "      <td>mutantes entre nosotros: 5 mutaciones genetica...</td>\n",
              "      <td>Diario Panorama de Santiago del Estero</td>\n",
              "      <td>Salud</td>\n",
              "    </tr>\n",
              "  </tbody>\n",
              "</table>\n",
              "<p>3852 rows × 4 columns</p>\n",
              "</div>"
            ],
            "text/plain": [
              "                    fecha                                            titular  \\\n",
              "25226 2018-12-01 22:25:44  perdia por dos goles y lo dio vuelta: san mart...   \n",
              "4160  2018-11-21 18:57:40  la industria sufrio en octubre su sexta caida ...   \n",
              "3834  2018-11-21 11:41:58  tras dura caida, el merval repunta por recompr...   \n",
              "28540 2018-12-04 10:57:18  tras fuerte caida, el dolar rebota 24 centavos...   \n",
              "11683 2018-11-25 12:39:03  secheep explica sobre facturacion, costo de en...   \n",
              "...                   ...                                                ...   \n",
              "18598 2018-11-29 06:25:56  dos millones de niños recibieron la vacuna con...   \n",
              "16814 2018-11-27 22:56:12  empleados de comercio: gremio acordo aumento d...   \n",
              "30404 2018-12-05 12:03:55  rafa di zeo, el lider historico de la barra de...   \n",
              "4925  2018-11-21 18:27:30  campaña de deteccion gratuita de artritis psor...   \n",
              "1246  2018-11-18 10:47:57  mutantes entre nosotros: 5 mutaciones genetica...   \n",
              "\n",
              "                                       fuente categoria  \n",
              "25226                           Diario El Día  Deportes  \n",
              "4160                            Minutouno.com  Economia  \n",
              "3834                               Ambito.com  Economia  \n",
              "28540                              Ambito.com  Economia  \n",
              "11683                            Diario NORTE  Economia  \n",
              "...                                       ...       ...  \n",
              "18598                              MDZ Online     Salud  \n",
              "16814                        iprofesional.com  Nacional  \n",
              "30404                              Clarín.com  Deportes  \n",
              "4925                               EL LITORAL     Salud  \n",
              "1246   Diario Panorama de Santiago del Estero     Salud  \n",
              "\n",
              "[3852 rows x 4 columns]"
            ]
          },
          "execution_count": 15,
          "metadata": {},
          "output_type": "execute_result"
        }
      ],
      "source": [
        "print(\"Comprobamos que el conjunto de testeo se generó correctamente\")\n",
        "df_test"
      ]
    },
    {
      "cell_type": "markdown",
      "metadata": {
        "id": "XvBgoIE8vi71"
      },
      "source": [
        "Cálculo de las frecuencias absolutas de las categorías y de las palabras por categoría"
      ]
    },
    {
      "cell_type": "code",
      "execution_count": null,
      "metadata": {
        "id": "6CNyeusRl5Qn"
      },
      "outputs": [],
      "source": [
        "#Diccionario de categorías\n",
        "cat_dic = {\n",
        "    'Nacional': [0,0],      #pos 0: número de categoría, pos 1: cant de noticias\n",
        "    'Economia': [1,0],\n",
        "    'Salud': [2,0],\n",
        "    'Deportes': [3,0]\n",
        "}\n",
        "\n",
        "#Diccionario de palabras\n",
        "pal_dic = dict()\n",
        "\n",
        "#Para cada registro del conjunto de entrenamiento calculamos la frecuencia\n",
        "# relativa de cada palabra para cada categoría\n",
        "\n",
        "for i in df_train.index:\n",
        "  titulo = df_train.loc[i,'titular']\n",
        "  #dividimos el titular en una lista de palabras\n",
        "  palabras = re.sub(r'[.!,;:?\\'\\\"\\[\\]\\(\\)|\\\\]', ' ', titulo).split()\n",
        "\n",
        "  for pal in palabras: #recorremos todas las palabras del titular\n",
        "    if pal not in pal_dic.keys(): #si había sido registrada antes, agregamos una entrada\n",
        "    #cada posición del vector corresponde a una categoría\n",
        "      pal_dic[pal] = np.array([0,0,0,0])\n",
        "    \n",
        "    #leemos a qué categoría pertenece la noticia y vemos qué índice le corresponde\n",
        "    i_cat = cat_dic[df_train.loc[i,'categoria']][0] #número de categoría\n",
        "\n",
        "    #agregamos 1 a la frecuencia abs de la palabra en la categoría según dicho índice\n",
        "    pal_dic[pal][i_cat] +=1\n",
        "\n",
        "  #agregamos 1 al contador de noticias de esa categoría\n",
        "  cat_dic[df_train.loc[i,'categoria']][1] +=1\n"
      ]
    },
    {
      "cell_type": "markdown",
      "metadata": {
        "id": "e_Q0iLAnKeBG"
      },
      "source": [
        "Creamos un dataframe con las frecuencias relativas de cada palabra para todas las categorías, aplicando la corrección de Laplace:\n",
        "\n",
        "$p = \\frac{N ocurrencias+1}{total+k}$"
      ]
    },
    {
      "cell_type": "code",
      "execution_count": null,
      "metadata": {
        "colab": {
          "base_uri": "https://localhost:8080/",
          "height": 424
        },
        "id": "_qFQiV8ZK-JP",
        "outputId": "aa128da0-661a-4309-aae1-4c3ab95c96d7"
      },
      "outputs": [
        {
          "data": {
            "text/html": [
              "<div>\n",
              "<style scoped>\n",
              "    .dataframe tbody tr th:only-of-type {\n",
              "        vertical-align: middle;\n",
              "    }\n",
              "\n",
              "    .dataframe tbody tr th {\n",
              "        vertical-align: top;\n",
              "    }\n",
              "\n",
              "    .dataframe thead th {\n",
              "        text-align: right;\n",
              "    }\n",
              "</style>\n",
              "<table border=\"1\" class=\"dataframe\">\n",
              "  <thead>\n",
              "    <tr style=\"text-align: right;\">\n",
              "      <th></th>\n",
              "      <th>Nacional</th>\n",
              "      <th>Economia</th>\n",
              "      <th>Salud</th>\n",
              "      <th>Deportes</th>\n",
              "    </tr>\n",
              "  </thead>\n",
              "  <tbody>\n",
              "    <tr>\n",
              "      <th>asltimos</th>\n",
              "      <td>0.000344</td>\n",
              "      <td>0.000347</td>\n",
              "      <td>0.004438</td>\n",
              "      <td>0.000350</td>\n",
              "    </tr>\n",
              "    <tr>\n",
              "      <th>dias</th>\n",
              "      <td>0.005856</td>\n",
              "      <td>0.007289</td>\n",
              "      <td>0.010242</td>\n",
              "      <td>0.003852</td>\n",
              "    </tr>\n",
              "    <tr>\n",
              "      <th>para</th>\n",
              "      <td>0.119187</td>\n",
              "      <td>0.119056</td>\n",
              "      <td>0.151246</td>\n",
              "      <td>0.127451</td>\n",
              "    </tr>\n",
              "    <tr>\n",
              "      <th>vacunarse</th>\n",
              "      <td>0.000344</td>\n",
              "      <td>0.000347</td>\n",
              "      <td>0.008877</td>\n",
              "      <td>0.000350</td>\n",
              "    </tr>\n",
              "    <tr>\n",
              "      <th>contra</th>\n",
              "      <td>0.025146</td>\n",
              "      <td>0.003471</td>\n",
              "      <td>0.123933</td>\n",
              "      <td>0.027661</td>\n",
              "    </tr>\n",
              "    <tr>\n",
              "      <th>...</th>\n",
              "      <td>...</td>\n",
              "      <td>...</td>\n",
              "      <td>...</td>\n",
              "      <td>...</td>\n",
              "    </tr>\n",
              "    <tr>\n",
              "      <th>redondos</th>\n",
              "      <td>0.000344</td>\n",
              "      <td>0.000347</td>\n",
              "      <td>0.000341</td>\n",
              "      <td>0.000700</td>\n",
              "    </tr>\n",
              "    <tr>\n",
              "      <th>arrancaran</th>\n",
              "      <td>0.000689</td>\n",
              "      <td>0.000347</td>\n",
              "      <td>0.000341</td>\n",
              "      <td>0.000350</td>\n",
              "    </tr>\n",
              "    <tr>\n",
              "      <th>autoriza</th>\n",
              "      <td>0.000689</td>\n",
              "      <td>0.000347</td>\n",
              "      <td>0.000341</td>\n",
              "      <td>0.000350</td>\n",
              "    </tr>\n",
              "    <tr>\n",
              "      <th>suspenderlo</th>\n",
              "      <td>0.000344</td>\n",
              "      <td>0.000347</td>\n",
              "      <td>0.000341</td>\n",
              "      <td>0.000700</td>\n",
              "    </tr>\n",
              "    <tr>\n",
              "      <th>dormida</th>\n",
              "      <td>0.000689</td>\n",
              "      <td>0.000347</td>\n",
              "      <td>0.000341</td>\n",
              "      <td>0.000350</td>\n",
              "    </tr>\n",
              "  </tbody>\n",
              "</table>\n",
              "<p>8294 rows × 4 columns</p>\n",
              "</div>"
            ],
            "text/plain": [
              "             Nacional  Economia     Salud  Deportes\n",
              "asltimos     0.000344  0.000347  0.004438  0.000350\n",
              "dias         0.005856  0.007289  0.010242  0.003852\n",
              "para         0.119187  0.119056  0.151246  0.127451\n",
              "vacunarse    0.000344  0.000347  0.008877  0.000350\n",
              "contra       0.025146  0.003471  0.123933  0.027661\n",
              "...               ...       ...       ...       ...\n",
              "redondos     0.000344  0.000347  0.000341  0.000700\n",
              "arrancaran   0.000689  0.000347  0.000341  0.000350\n",
              "autoriza     0.000689  0.000347  0.000341  0.000350\n",
              "suspenderlo  0.000344  0.000347  0.000341  0.000700\n",
              "dormida      0.000689  0.000347  0.000341  0.000350\n",
              "\n",
              "[8294 rows x 4 columns]"
            ]
          },
          "execution_count": 17,
          "metadata": {},
          "output_type": "execute_result"
        }
      ],
      "source": [
        "# N = frecuencia de palabras en la categoría\n",
        "# total = cantidad de noticias dentro de la categoría\n",
        "# k = 4 cantidad de categorías\n",
        "\n",
        "#vector con la cantidad de noticias de cada categoría\n",
        "total = np.array([cat_dic['Nacional'][1], cat_dic['Economia'][1], cat_dic['Salud'][1], cat_dic['Deportes'][1]])\n",
        "\n",
        "cat_p = total/np.sum(total) #frecuencia relativa de cada categoría (probabilidad de cada categoría)\n",
        "\n",
        "#Vamos a crear un df con las palabras y las frecuencias relativas de cada categoría\n",
        "filas = [] #es una lista donde vamos a guardar todas las filas del df\n",
        "\n",
        "for pal in pal_dic.keys():  \n",
        "  p_cl = (pal_dic[pal] +1)/(total + 4) #apliamos correción de Laplace\n",
        "  filas.append(p_cl) #agregamos a la lista de filas\n",
        "\n",
        "df_p = pd.DataFrame(filas, columns =['Nacional', 'Economia', 'Salud', 'Deportes'], index = pal_dic.keys())\n",
        "df_p\n"
      ]
    },
    {
      "cell_type": "markdown",
      "metadata": {
        "id": "6YqBl-NtZIqE"
      },
      "source": [
        "## Testeo\n",
        "\n",
        "Separamos cada título del set de testeo. Vemos las probabilidades dada cada una de las categorías y vemos cuál es la clase más probable."
      ]
    },
    {
      "cell_type": "code",
      "execution_count": null,
      "metadata": {
        "id": "DlaSH-iOZqRM"
      },
      "outputs": [],
      "source": [
        "#Creamos un df donde vamos a ir contando los 'VP','VN','FP','FN' de cada categoría\n",
        "metricas = pd.DataFrame(index=['VP','VN','FP','FN'], columns=['Nacional', 'Economia', 'Salud', 'Deportes'])\n",
        "metricas = metricas.fillna(0)\n",
        "\n",
        "#Creamos un df donde vamos a hacer la Matriz de confusión\n",
        "matriz_conf = pd.DataFrame(index=['Nacional','Economia','Salud','Deportes'], columns=['Nacional', 'Economia', 'Salud', 'Deportes'])\n",
        "matriz_conf = matriz_conf.fillna(0)\n",
        "\n",
        "#Creamos un df donde para cada noticia vamos a guardar la clasificación inferida y la real\n",
        "clasificaciones = pd.DataFrame(index = df_test.loc[:,'titular'], columns=['Observada', 'Real', 'Nacional', 'Economia', 'Salud', 'Deportes'])\n",
        "\n",
        "\n",
        "for i in df_test.index: #recorremos todos los titulares\n",
        "  titulo = df_test.loc[i,'titular']\n",
        "  #separamos en palabras  \n",
        "  palabras = re.sub(r'[.!,;:?\\'\\\"\\[\\]\\(\\)|\\\\]', ' ', titulo).split()\n",
        "\n",
        "  nb = {}\n",
        "\n",
        "  for k in cat_dic.keys():\n",
        "    p = 1 #probabilidad del título dada la categoría k\n",
        "    for pal in palabras:\n",
        "      if pal in df_p.index:\n",
        "        p = p*df_p.loc[pal,k] \n",
        "      else:\n",
        "        p= p/(cat_dic[k][1]+4) #Si la palabra no tiene asignada una probabilidad\n",
        "                               # se le asigna p=0 con corrección de Laplace\n",
        "\n",
        "    nb[k] = p*cat_p[cat_dic[k][0]] #probabilidad del título dada la categoría k * probabilidad de la categoría k  \n",
        "    clasificaciones.loc[titulo,k] = nb[k] #guardamos la probabilidad calculada en el df\n",
        "  \n",
        "  rev_nb = dict(map(reversed, nb.items()))\n",
        "  clasif_ob = rev_nb[max(rev_nb.keys())] #clasificacion inferida de la noticia según clase más probable\n",
        "  clasif_re = df_test.loc[i,'categoria']\n",
        "  clasificaciones.loc[titulo,'Observada'] = clasif_ob #guardamos la clasificación inferida en el df\n",
        "  clasificaciones.loc[titulo,'Real'] = clasif_re #guardamos la clasificación real en el df\n",
        "  clasificaciones.loc[titulo, 'Nacional':'Deportes'] = clasificaciones.loc[titulo, 'Nacional':'Deportes']/sum(rev_nb.keys())\n",
        "  #para cada noticia dividimos las probabilidades guardadas por la suma de todas\n",
        "  # ellas (teorema de la probabilidad total)\n",
        "\n",
        "  #agregamos la clasificación a la matriz de confusión\n",
        "  matriz_conf.loc[clasif_re,clasif_ob] +=1 \n",
        "\n",
        "  #cálculo de métricas\n",
        "  if clasif_ob == clasif_re: #casos en que se clasificó bien\n",
        "    for cat in cat_dic.keys(): #recorremos todas las categorías \n",
        "      if cat != clasif_ob: \n",
        "        metricas.loc['VN', cat]+=1 #si no es la clase inferida, es VN\n",
        "      else:\n",
        "        metricas.loc['VP', clasif_ob]+=1 # si es la clase inferida es VP\n",
        "    \n",
        "  else: #casos en que se clasificó mal\n",
        "    for cat in cat_dic.keys():\n",
        "      if cat == clasif_ob:\n",
        "        metricas.loc['FP', clasif_ob]+=1 #la clase inferida suma un FP\n",
        "      elif cat == clasif_re:\n",
        "        metricas.loc['FN', clasif_re]+=1 #la clase real suma un FN\n",
        "      else:\n",
        "        metricas.loc['VN', cat]+=1 #las otras dos un VN\n",
        "  \n",
        "\n"
      ]
    },
    {
      "cell_type": "markdown",
      "metadata": {
        "id": "owZsg8aStjVC"
      },
      "source": [
        "### Métricas para cada clase\n",
        "* VP: verdaderos positivos\n",
        "* VN: verdaderos negativos\n",
        "* FP: falsos positivos\n",
        "* FN: falsos negativos"
      ]
    },
    {
      "cell_type": "code",
      "execution_count": null,
      "metadata": {
        "colab": {
          "base_uri": "https://localhost:8080/",
          "height": 175
        },
        "id": "Ypf2244Zc8Cs",
        "outputId": "09e62995-25d7-48d0-8be1-416d72c87b5f"
      },
      "outputs": [
        {
          "data": {
            "text/html": [
              "<div>\n",
              "<style scoped>\n",
              "    .dataframe tbody tr th:only-of-type {\n",
              "        vertical-align: middle;\n",
              "    }\n",
              "\n",
              "    .dataframe tbody tr th {\n",
              "        vertical-align: top;\n",
              "    }\n",
              "\n",
              "    .dataframe thead th {\n",
              "        text-align: right;\n",
              "    }\n",
              "</style>\n",
              "<table border=\"1\" class=\"dataframe\">\n",
              "  <thead>\n",
              "    <tr style=\"text-align: right;\">\n",
              "      <th></th>\n",
              "      <th>Nacional</th>\n",
              "      <th>Economia</th>\n",
              "      <th>Salud</th>\n",
              "      <th>Deportes</th>\n",
              "    </tr>\n",
              "  </thead>\n",
              "  <tbody>\n",
              "    <tr>\n",
              "      <th>VP</th>\n",
              "      <td>920</td>\n",
              "      <td>954</td>\n",
              "      <td>900</td>\n",
              "      <td>972</td>\n",
              "    </tr>\n",
              "    <tr>\n",
              "      <th>VN</th>\n",
              "      <td>2850</td>\n",
              "      <td>2853</td>\n",
              "      <td>2924</td>\n",
              "      <td>2823</td>\n",
              "    </tr>\n",
              "    <tr>\n",
              "      <th>FP</th>\n",
              "      <td>41</td>\n",
              "      <td>26</td>\n",
              "      <td>13</td>\n",
              "      <td>26</td>\n",
              "    </tr>\n",
              "    <tr>\n",
              "      <th>FN</th>\n",
              "      <td>41</td>\n",
              "      <td>19</td>\n",
              "      <td>15</td>\n",
              "      <td>31</td>\n",
              "    </tr>\n",
              "  </tbody>\n",
              "</table>\n",
              "</div>"
            ],
            "text/plain": [
              "    Nacional  Economia  Salud  Deportes\n",
              "VP       920       954    900       972\n",
              "VN      2850      2853   2924      2823\n",
              "FP        41        26     13        26\n",
              "FN        41        19     15        31"
            ]
          },
          "execution_count": 19,
          "metadata": {},
          "output_type": "execute_result"
        }
      ],
      "source": [
        "metricas"
      ]
    },
    {
      "cell_type": "code",
      "execution_count": null,
      "metadata": {
        "colab": {
          "base_uri": "https://localhost:8080/",
          "height": 611
        },
        "id": "Pwu4RN1nmAqo",
        "outputId": "da005b52-eb15-4124-c58b-375c3da8fc42"
      },
      "outputs": [
        {
          "data": {
            "text/html": [
              "<div>\n",
              "<style scoped>\n",
              "    .dataframe tbody tr th:only-of-type {\n",
              "        vertical-align: middle;\n",
              "    }\n",
              "\n",
              "    .dataframe tbody tr th {\n",
              "        vertical-align: top;\n",
              "    }\n",
              "\n",
              "    .dataframe thead th {\n",
              "        text-align: right;\n",
              "    }\n",
              "</style>\n",
              "<table border=\"1\" class=\"dataframe\">\n",
              "  <thead>\n",
              "    <tr style=\"text-align: right;\">\n",
              "      <th></th>\n",
              "      <th>Observada</th>\n",
              "      <th>Real</th>\n",
              "      <th>Nacional</th>\n",
              "      <th>Economia</th>\n",
              "      <th>Salud</th>\n",
              "      <th>Deportes</th>\n",
              "    </tr>\n",
              "    <tr>\n",
              "      <th>titular</th>\n",
              "      <th></th>\n",
              "      <th></th>\n",
              "      <th></th>\n",
              "      <th></th>\n",
              "      <th></th>\n",
              "      <th></th>\n",
              "    </tr>\n",
              "  </thead>\n",
              "  <tbody>\n",
              "    <tr>\n",
              "      <th>confirman un caso de meningitis en una nena de 10 años en san juan</th>\n",
              "      <td>Nacional</td>\n",
              "      <td>Salud</td>\n",
              "      <td>0.547171</td>\n",
              "      <td>1.04827e-08</td>\n",
              "      <td>0.452829</td>\n",
              "      <td>5.97071e-07</td>\n",
              "    </tr>\n",
              "    <tr>\n",
              "      <th>filmaron a una hincha de river mientras escondia bengalas en el cuerpo de una nena</th>\n",
              "      <td>Nacional</td>\n",
              "      <td>Deportes</td>\n",
              "      <td>0.580305</td>\n",
              "      <td>1.95912e-07</td>\n",
              "      <td>1.0485e-05</td>\n",
              "      <td>0.419684</td>\n",
              "    </tr>\n",
              "    <tr>\n",
              "      <th>aumentos en los peajes: el gobierno compensara a las empresas por la devaluacion y el menor transito</th>\n",
              "      <td>Economia</td>\n",
              "      <td>Nacional</td>\n",
              "      <td>0.486067</td>\n",
              "      <td>0.513931</td>\n",
              "      <td>3.19122e-09</td>\n",
              "      <td>2.34175e-06</td>\n",
              "    </tr>\n",
              "    <tr>\n",
              "      <th>dimon y buffett rien ultimos sobre bitcoin: lionel laurent</th>\n",
              "      <td>Deportes</td>\n",
              "      <td>Economia</td>\n",
              "      <td>0.00115512</td>\n",
              "      <td>0.122012</td>\n",
              "      <td>0.0014976</td>\n",
              "      <td>0.875335</td>\n",
              "    </tr>\n",
              "    <tr>\n",
              "      <th>allanan el autodromo de la plata por un caso de facturas truchas</th>\n",
              "      <td>Nacional</td>\n",
              "      <td>Deportes</td>\n",
              "      <td>0.964019</td>\n",
              "      <td>9.43432e-06</td>\n",
              "      <td>8.60617e-05</td>\n",
              "      <td>0.035885</td>\n",
              "    </tr>\n",
              "    <tr>\n",
              "      <th>...</th>\n",
              "      <td>...</td>\n",
              "      <td>...</td>\n",
              "      <td>...</td>\n",
              "      <td>...</td>\n",
              "      <td>...</td>\n",
              "      <td>...</td>\n",
              "    </tr>\n",
              "    <tr>\n",
              "      <th>toma de protesta de amlo: 5 frases de lopez obrador en su primer mensaje como presidente de mexico</th>\n",
              "      <td>Deportes</td>\n",
              "      <td>Economia</td>\n",
              "      <td>0.00379284</td>\n",
              "      <td>0.0296903</td>\n",
              "      <td>0.000234289</td>\n",
              "      <td>0.966283</td>\n",
              "    </tr>\n",
              "    <tr>\n",
              "      <th>silva: \"estoy feliz, falta un escalon mas\"</th>\n",
              "      <td>Salud</td>\n",
              "      <td>Deportes</td>\n",
              "      <td>0.294982</td>\n",
              "      <td>0.186585</td>\n",
              "      <td>0.389356</td>\n",
              "      <td>0.129078</td>\n",
              "    </tr>\n",
              "    <tr>\n",
              "      <th>bullrich celebro el operativo de seguridad de la cumbre, sin olvidarse del river-boca</th>\n",
              "      <td>Deportes</td>\n",
              "      <td>Nacional</td>\n",
              "      <td>0.0594636</td>\n",
              "      <td>2.45446e-08</td>\n",
              "      <td>1.09972e-08</td>\n",
              "      <td>0.940536</td>\n",
              "    </tr>\n",
              "    <tr>\n",
              "      <th>niños discapacitados recibieron medallas con la inscripcion escrita con corrector</th>\n",
              "      <td>Salud</td>\n",
              "      <td>Nacional</td>\n",
              "      <td>0.00276662</td>\n",
              "      <td>0.001371</td>\n",
              "      <td>0.991082</td>\n",
              "      <td>0.00478057</td>\n",
              "    </tr>\n",
              "    <tr>\n",
              "      <th>confirman un caso de meningitis en una nena de 10 años en san juan</th>\n",
              "      <td>Nacional</td>\n",
              "      <td>Salud</td>\n",
              "      <td>0.547171</td>\n",
              "      <td>1.04827e-08</td>\n",
              "      <td>0.452829</td>\n",
              "      <td>5.97071e-07</td>\n",
              "    </tr>\n",
              "  </tbody>\n",
              "</table>\n",
              "<p>107 rows × 6 columns</p>\n",
              "</div>"
            ],
            "text/plain": [
              "                                                   Observada      Real  \\\n",
              "titular                                                                  \n",
              "confirman un caso de meningitis en una nena de ...  Nacional     Salud   \n",
              "filmaron a una hincha de river mientras escondi...  Nacional  Deportes   \n",
              "aumentos en los peajes: el gobierno compensara ...  Economia  Nacional   \n",
              "dimon y buffett rien ultimos sobre bitcoin: lio...  Deportes  Economia   \n",
              "allanan el autodromo de la plata por un caso de...  Nacional  Deportes   \n",
              "...                                                      ...       ...   \n",
              "toma de protesta de amlo: 5 frases de lopez obr...  Deportes  Economia   \n",
              "silva: \"estoy feliz, falta un escalon mas\"             Salud  Deportes   \n",
              "bullrich celebro el operativo de seguridad de l...  Deportes  Nacional   \n",
              "niños discapacitados recibieron medallas con la...     Salud  Nacional   \n",
              "confirman un caso de meningitis en una nena de ...  Nacional     Salud   \n",
              "\n",
              "                                                      Nacional     Economia  \\\n",
              "titular                                                                       \n",
              "confirman un caso de meningitis en una nena de ...    0.547171  1.04827e-08   \n",
              "filmaron a una hincha de river mientras escondi...    0.580305  1.95912e-07   \n",
              "aumentos en los peajes: el gobierno compensara ...    0.486067     0.513931   \n",
              "dimon y buffett rien ultimos sobre bitcoin: lio...  0.00115512     0.122012   \n",
              "allanan el autodromo de la plata por un caso de...    0.964019  9.43432e-06   \n",
              "...                                                        ...          ...   \n",
              "toma de protesta de amlo: 5 frases de lopez obr...  0.00379284    0.0296903   \n",
              "silva: \"estoy feliz, falta un escalon mas\"            0.294982     0.186585   \n",
              "bullrich celebro el operativo de seguridad de l...   0.0594636  2.45446e-08   \n",
              "niños discapacitados recibieron medallas con la...  0.00276662     0.001371   \n",
              "confirman un caso de meningitis en una nena de ...    0.547171  1.04827e-08   \n",
              "\n",
              "                                                          Salud     Deportes  \n",
              "titular                                                                       \n",
              "confirman un caso de meningitis en una nena de ...     0.452829  5.97071e-07  \n",
              "filmaron a una hincha de river mientras escondi...   1.0485e-05     0.419684  \n",
              "aumentos en los peajes: el gobierno compensara ...  3.19122e-09  2.34175e-06  \n",
              "dimon y buffett rien ultimos sobre bitcoin: lio...    0.0014976     0.875335  \n",
              "allanan el autodromo de la plata por un caso de...  8.60617e-05     0.035885  \n",
              "...                                                         ...          ...  \n",
              "toma de protesta de amlo: 5 frases de lopez obr...  0.000234289     0.966283  \n",
              "silva: \"estoy feliz, falta un escalon mas\"             0.389356     0.129078  \n",
              "bullrich celebro el operativo de seguridad de l...  1.09972e-08     0.940536  \n",
              "niños discapacitados recibieron medallas con la...     0.991082   0.00478057  \n",
              "confirman un caso de meningitis en una nena de ...     0.452829  5.97071e-07  \n",
              "\n",
              "[107 rows x 6 columns]"
            ]
          },
          "execution_count": 20,
          "metadata": {},
          "output_type": "execute_result"
        }
      ],
      "source": [
        "#Imprimimos los casos en que se clasificó incorrectamente\n",
        "clasificaciones.loc[clasificaciones['Observada'] !=  clasificaciones['Real']]"
      ]
    },
    {
      "cell_type": "markdown",
      "metadata": {
        "id": "Lh-Btgfigzp4"
      },
      "source": [
        "### Métricas de Evaluación"
      ]
    },
    {
      "cell_type": "markdown",
      "metadata": {
        "id": "12tjVKSvtjVD"
      },
      "source": [
        "**Matriz de confusión**"
      ]
    },
    {
      "cell_type": "code",
      "execution_count": null,
      "metadata": {
        "colab": {
          "base_uri": "https://localhost:8080/",
          "height": 193
        },
        "id": "rF6rZt8mYzal",
        "outputId": "d2830165-6d65-4723-c55d-3a8e593e446e"
      },
      "outputs": [
        {
          "data": {
            "text/html": [
              "<div>\n",
              "<style scoped>\n",
              "    .dataframe tbody tr th:only-of-type {\n",
              "        vertical-align: middle;\n",
              "    }\n",
              "\n",
              "    .dataframe tbody tr th {\n",
              "        vertical-align: top;\n",
              "    }\n",
              "\n",
              "    .dataframe thead th {\n",
              "        text-align: right;\n",
              "    }\n",
              "</style>\n",
              "<table border=\"1\" class=\"dataframe\">\n",
              "  <thead>\n",
              "    <tr style=\"text-align: right;\">\n",
              "      <th></th>\n",
              "      <th>Nacional</th>\n",
              "      <th>Economia</th>\n",
              "      <th>Salud</th>\n",
              "      <th>Deportes</th>\n",
              "    </tr>\n",
              "  </thead>\n",
              "  <tbody>\n",
              "    <tr>\n",
              "      <th>Nacional</th>\n",
              "      <td>920</td>\n",
              "      <td>16</td>\n",
              "      <td>9</td>\n",
              "      <td>16</td>\n",
              "    </tr>\n",
              "    <tr>\n",
              "      <th>Economia</th>\n",
              "      <td>8</td>\n",
              "      <td>954</td>\n",
              "      <td>1</td>\n",
              "      <td>10</td>\n",
              "    </tr>\n",
              "    <tr>\n",
              "      <th>Salud</th>\n",
              "      <td>10</td>\n",
              "      <td>5</td>\n",
              "      <td>900</td>\n",
              "      <td>0</td>\n",
              "    </tr>\n",
              "    <tr>\n",
              "      <th>Deportes</th>\n",
              "      <td>23</td>\n",
              "      <td>5</td>\n",
              "      <td>3</td>\n",
              "      <td>972</td>\n",
              "    </tr>\n",
              "  </tbody>\n",
              "</table>\n",
              "</div>"
            ],
            "text/plain": [
              "          Nacional  Economia  Salud  Deportes\n",
              "Nacional       920        16      9        16\n",
              "Economia         8       954      1        10\n",
              "Salud           10         5    900         0\n",
              "Deportes        23         5      3       972"
            ]
          },
          "execution_count": 22,
          "metadata": {},
          "output_type": "execute_result"
        }
      ],
      "source": [
        "matriz_conf"
      ]
    },
    {
      "cell_type": "markdown",
      "metadata": {
        "id": "CK_nCAgFdou3"
      },
      "source": [
        "\n",
        "*  Accuracy $ = \\frac{VP + VN}{VP+VN+FP+FN}$\n",
        "\n",
        "*  Precisión $ = \\frac{VP}{VP+FP}$\n",
        "\n",
        "* Tasa de VP $=$ Recall $ = \\frac{VP}{VP+FN}$\n",
        "\n",
        "* Tasa de FP $ = \\frac{FP}{FP+VN}$\n",
        "\n",
        "* F1-Score $ = \\frac{2\\cdot Precisión \\cdot Recall}{Precisión + Recall}$"
      ]
    },
    {
      "cell_type": "code",
      "execution_count": null,
      "metadata": {
        "id": "6AZVAhMhj3dA"
      },
      "outputs": [],
      "source": [
        "evaluacion = pd.DataFrame(index=['Accuracy','Precisión','Recall','Tasa de FP', 'F1-Score'], columns=['Nacional', 'Economia', 'Salud', 'Deportes'])\n",
        "evaluacion = evaluacion.fillna(0)\n",
        "\n",
        "for i in evaluacion.columns:\n",
        "  #Accuracy\n",
        "  evaluacion.loc['Accuracy',i] = (metricas.loc['VP',i] + metricas.loc['VN',i])/(metricas.loc['VP',i]+metricas.loc['VN',i]+metricas.loc['FP',i]+metricas.loc['FN',i])\n",
        "  #Precisión\n",
        "  evaluacion.loc['Precisión',i] = metricas.loc['VP',i]/(metricas.loc['VP',i]+metricas.loc['FP',i])\n",
        "  #Recall\n",
        "  evaluacion.loc['Recall',i] = metricas.loc['VP',i]/(metricas.loc['VP',i]+metricas.loc['FN',i])\n",
        "  #Tasa de FP\n",
        "  evaluacion.loc['Tasa de FP',i] = metricas.loc['FP',i]/(metricas.loc['FP',i]+metricas.loc['VN',i])\n",
        "  #F1-Score\n",
        "  evaluacion.loc['F1-Score',i] = (2*evaluacion.loc['Precisión',i]*evaluacion.loc['Recall',i])/(evaluacion.loc['Precisión',i]+evaluacion.loc['Recall',i])\n",
        "\n",
        "evaluacion = evaluacion.round(4)"
      ]
    },
    {
      "cell_type": "markdown",
      "metadata": {
        "id": "bWvZIN6QtjVE"
      },
      "source": [
        "**Evaluación**"
      ]
    },
    {
      "cell_type": "code",
      "execution_count": null,
      "metadata": {
        "colab": {
          "base_uri": "https://localhost:8080/",
          "height": 206
        },
        "id": "GofkaMlsrEsA",
        "outputId": "710dab6f-b143-4bbd-fe7b-354bd2997f0d"
      },
      "outputs": [
        {
          "data": {
            "text/html": [
              "<div>\n",
              "<style scoped>\n",
              "    .dataframe tbody tr th:only-of-type {\n",
              "        vertical-align: middle;\n",
              "    }\n",
              "\n",
              "    .dataframe tbody tr th {\n",
              "        vertical-align: top;\n",
              "    }\n",
              "\n",
              "    .dataframe thead th {\n",
              "        text-align: right;\n",
              "    }\n",
              "</style>\n",
              "<table border=\"1\" class=\"dataframe\">\n",
              "  <thead>\n",
              "    <tr style=\"text-align: right;\">\n",
              "      <th></th>\n",
              "      <th>Nacional</th>\n",
              "      <th>Economia</th>\n",
              "      <th>Salud</th>\n",
              "      <th>Deportes</th>\n",
              "    </tr>\n",
              "  </thead>\n",
              "  <tbody>\n",
              "    <tr>\n",
              "      <th>Accuracy</th>\n",
              "      <td>0.9787</td>\n",
              "      <td>0.9883</td>\n",
              "      <td>0.9927</td>\n",
              "      <td>0.9852</td>\n",
              "    </tr>\n",
              "    <tr>\n",
              "      <th>Precisión</th>\n",
              "      <td>0.9573</td>\n",
              "      <td>0.9735</td>\n",
              "      <td>0.9858</td>\n",
              "      <td>0.9739</td>\n",
              "    </tr>\n",
              "    <tr>\n",
              "      <th>Recall</th>\n",
              "      <td>0.9573</td>\n",
              "      <td>0.9805</td>\n",
              "      <td>0.9836</td>\n",
              "      <td>0.9691</td>\n",
              "    </tr>\n",
              "    <tr>\n",
              "      <th>Tasa de FP</th>\n",
              "      <td>0.0142</td>\n",
              "      <td>0.0090</td>\n",
              "      <td>0.0044</td>\n",
              "      <td>0.0091</td>\n",
              "    </tr>\n",
              "    <tr>\n",
              "      <th>F1-Score</th>\n",
              "      <td>0.9573</td>\n",
              "      <td>0.9770</td>\n",
              "      <td>0.9847</td>\n",
              "      <td>0.9715</td>\n",
              "    </tr>\n",
              "  </tbody>\n",
              "</table>\n",
              "</div>"
            ],
            "text/plain": [
              "            Nacional  Economia   Salud  Deportes\n",
              "Accuracy      0.9787    0.9883  0.9927    0.9852\n",
              "Precisión     0.9573    0.9735  0.9858    0.9739\n",
              "Recall        0.9573    0.9805  0.9836    0.9691\n",
              "Tasa de FP    0.0142    0.0090  0.0044    0.0091\n",
              "F1-Score      0.9573    0.9770  0.9847    0.9715"
            ]
          },
          "execution_count": 25,
          "metadata": {},
          "output_type": "execute_result"
        }
      ],
      "source": [
        "evaluacion"
      ]
    },
    {
      "cell_type": "markdown",
      "metadata": {
        "id": "yF1i8IiQXg6j"
      },
      "source": [
        "### Curva ROC"
      ]
    },
    {
      "cell_type": "code",
      "execution_count": null,
      "metadata": {
        "colab": {
          "base_uri": "https://localhost:8080/",
          "height": 1000
        },
        "id": "WldVc_vS1SVo",
        "outputId": "797d3868-9d58-473f-e16c-c42887dc6607"
      },
      "outputs": [
        {
          "data": {
            "image/png": "[encoded data removed]",
            "text/plain": [
              "<Figure size 432x288 with 1 Axes>"
            ]
          },
          "metadata": {
            "needs_background": "light"
          },
          "output_type": "display_data"
        },
        {
          "data": {
            "image/png": "[encoded data removed]",
            "text/plain": [
              "<Figure size 432x288 with 1 Axes>"
            ]
          },
          "metadata": {
            "needs_background": "light"
          },
          "output_type": "display_data"
        },
        {
          "data": {
            "image/png": "[encoded data removed]",
            "text/plain": [
              "<Figure size 432x288 with 1 Axes>"
            ]
          },
          "metadata": {
            "needs_background": "light"
          },
          "output_type": "display_data"
        },
        {
          "data": {
            "image/png": "[encoded data removed]",
            "text/plain": [
              "<Figure size 432x288 with 1 Axes>"
            ]
          },
          "metadata": {
            "needs_background": "light"
          },
          "output_type": "display_data"
        }
      ],
      "source": [
        "umbrales=[0,0.1,0.2,0.3,0.4,0.5,0.6,0.7,0.8,0.9,1]\n",
        "\n",
        "#hacemos una curva por categoría\n",
        "for k in cat_dic.keys():\n",
        "  #separamos entre:\n",
        "  #clasificación real = categoría bajo estudio\n",
        "  VPR = clasificaciones.loc[clasificaciones['Real'] == k].copy()\n",
        "  #clasificación real != categoría bajo estudio\n",
        "  FPR = clasificaciones.loc[clasificaciones['Real'] != k].copy()\n",
        "\n",
        "  #matriz donde vamos a guardar las coordenadas de los puntos ROC\n",
        "  matriz_ROC= np.zeros([2,11])\n",
        "\n",
        "  for u in umbrales: #vamos variando el umbral\n",
        "    VPR_d = VPR.copy()\n",
        "    FPR_d = FPR.copy()   \n",
        "    VPR_d.loc[VPR[k] >= u, k] = 'VP' #probalidad de la categoría super umbral\n",
        "    VPR_d.loc[VPR[k] < u, k] = 'FN' #probabilidad de la categoría no supera umbral\n",
        "    FPR_d.loc[FPR[k] >= u, k] = 'FP' #probabilidad de la categoría supera umbral pero no era la cat correcta\n",
        "    FPR_d.loc[FPR[k] < u, k] = 'VN' #probabilidad de la categoría no supera umbral\n",
        "\n",
        "    #contamos el total de 'VP', 'FN', 'FP' y 'VN' para la categoría y lo guardamos en un df\n",
        "    met_ROC = pd.DataFrame(VPR_d[k].value_counts().append(FPR_d[k].value_counts()),index=['VP','FP','VN','FN'])\n",
        "    met_ROC = met_ROC.fillna(0)\n",
        "\n",
        "    #con eso calculamos las tasas de verdaderos positivos y falsos positivos y guardamos el punto ROC\n",
        "    matriz_ROC[0,int(10*u)]=met_ROC.loc['FP',k]/(met_ROC.loc['FP',k]+met_ROC.loc['VN',k]) \n",
        "    matriz_ROC[1,int(10*u)]=met_ROC.loc['VP',k]/(met_ROC.loc['VP',k]+met_ROC.loc['FN',k])\n",
        "\n",
        "  #una vez recorridos todos los umbrales graficamos \n",
        "  plt.figure()\n",
        "  plt.scatter(matriz_ROC[0,:],matriz_ROC[1,:])\n",
        "  plt.plot(matriz_ROC[0,:],matriz_ROC[1,:])\n",
        "  plt.title('Curva ROC categoria: ' + k)\n",
        "  plt.xlabel('TasaFP')\n",
        "  plt.ylabel('TasaVP')\n",
        "  plt.show()"
      ]
    },
    {
      "cell_type": "markdown",
      "metadata": {
        "id": "bgkKvMuVCXa6"
      },
      "source": [
        "# Ejercicio 4\n",
        "El conjunto de datos binary.csv contiene información de la admisión de estudiantes a una\n",
        "universidad. Las variables son:\n",
        "* admit: (toma valores 0: no fue admitido, 1 fue admitido),\n",
        "* GRE: (Graduate Record Exam scores) variable numérica,\n",
        "* GPA: (grade point average) variable numérica, \n",
        "* rank: variable categórica que se refiere al prestigio de la escuela secundaria a la que el alumno asistió y toma valores {1, 2, 3, 4}.\n",
        "\n",
        "Un investigador está interesado en averiguar cómo influyen estas variables en la admisión. Discretiza las variables GRE y GPA de la siguiente manera GRE ∈ {GRE ≥ 500, GRE < 500} y GPA ∈ {GPA ≥ 3, GPA < 3}. Sabe que estas variables cumplen las relaciones presentadas en la Figura 1.\n",
        "\n",
        "a) Calcular la probabilidad de que una persona que proviene de una escuela con rango 1 no haya sido admitida en la universidad.\n",
        "\n",
        "b) Calcular la probabilidad de que una persona que fue a una escuela de rango 2, tenga GRE = 450 y GPA = 3.5 sea admitida en la universidad.\n",
        "\n",
        "c) En este ejercicio, ¿cuál es el proceso de aprendizaje?\n",
        "\n",
        "\n",
        "![image.png](data:image/png;base64,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)"
      ]
    },
    {
      "cell_type": "code",
      "execution_count": null,
      "metadata": {
        "colab": {
          "base_uri": "https://localhost:8080/",
          "height": 424
        },
        "id": "2R_eAlt2CXB3",
        "outputId": "5968dc0a-bf49-45f7-b0f9-a0eab07e942c"
      },
      "outputs": [
        {
          "data": {
            "text/html": [
              "<div>\n",
              "<style scoped>\n",
              "    .dataframe tbody tr th:only-of-type {\n",
              "        vertical-align: middle;\n",
              "    }\n",
              "\n",
              "    .dataframe tbody tr th {\n",
              "        vertical-align: top;\n",
              "    }\n",
              "\n",
              "    .dataframe thead th {\n",
              "        text-align: right;\n",
              "    }\n",
              "</style>\n",
              "<table border=\"1\" class=\"dataframe\">\n",
              "  <thead>\n",
              "    <tr style=\"text-align: right;\">\n",
              "      <th></th>\n",
              "      <th>admit</th>\n",
              "      <th>gre</th>\n",
              "      <th>gpa</th>\n",
              "      <th>rank</th>\n",
              "    </tr>\n",
              "  </thead>\n",
              "  <tbody>\n",
              "    <tr>\n",
              "      <th>0</th>\n",
              "      <td>0</td>\n",
              "      <td>380</td>\n",
              "      <td>3.61</td>\n",
              "      <td>3</td>\n",
              "    </tr>\n",
              "    <tr>\n",
              "      <th>1</th>\n",
              "      <td>1</td>\n",
              "      <td>660</td>\n",
              "      <td>3.67</td>\n",
              "      <td>3</td>\n",
              "    </tr>\n",
              "    <tr>\n",
              "      <th>2</th>\n",
              "      <td>1</td>\n",
              "      <td>800</td>\n",
              "      <td>4.00</td>\n",
              "      <td>1</td>\n",
              "    </tr>\n",
              "    <tr>\n",
              "      <th>3</th>\n",
              "      <td>1</td>\n",
              "      <td>640</td>\n",
              "      <td>3.19</td>\n",
              "      <td>4</td>\n",
              "    </tr>\n",
              "    <tr>\n",
              "      <th>4</th>\n",
              "      <td>0</td>\n",
              "      <td>520</td>\n",
              "      <td>2.93</td>\n",
              "      <td>4</td>\n",
              "    </tr>\n",
              "    <tr>\n",
              "      <th>...</th>\n",
              "      <td>...</td>\n",
              "      <td>...</td>\n",
              "      <td>...</td>\n",
              "      <td>...</td>\n",
              "    </tr>\n",
              "    <tr>\n",
              "      <th>395</th>\n",
              "      <td>0</td>\n",
              "      <td>620</td>\n",
              "      <td>4.00</td>\n",
              "      <td>2</td>\n",
              "    </tr>\n",
              "    <tr>\n",
              "      <th>396</th>\n",
              "      <td>0</td>\n",
              "      <td>560</td>\n",
              "      <td>3.04</td>\n",
              "      <td>3</td>\n",
              "    </tr>\n",
              "    <tr>\n",
              "      <th>397</th>\n",
              "      <td>0</td>\n",
              "      <td>460</td>\n",
              "      <td>2.63</td>\n",
              "      <td>2</td>\n",
              "    </tr>\n",
              "    <tr>\n",
              "      <th>398</th>\n",
              "      <td>0</td>\n",
              "      <td>700</td>\n",
              "      <td>3.65</td>\n",
              "      <td>2</td>\n",
              "    </tr>\n",
              "    <tr>\n",
              "      <th>399</th>\n",
              "      <td>0</td>\n",
              "      <td>600</td>\n",
              "      <td>3.89</td>\n",
              "      <td>3</td>\n",
              "    </tr>\n",
              "  </tbody>\n",
              "</table>\n",
              "<p>400 rows × 4 columns</p>\n",
              "</div>"
            ],
            "text/plain": [
              "     admit  gre   gpa  rank\n",
              "0        0  380  3.61     3\n",
              "1        1  660  3.67     3\n",
              "2        1  800  4.00     1\n",
              "3        1  640  3.19     4\n",
              "4        0  520  2.93     4\n",
              "..     ...  ...   ...   ...\n",
              "395      0  620  4.00     2\n",
              "396      0  560  3.04     3\n",
              "397      0  460  2.63     2\n",
              "398      0  700  3.65     2\n",
              "399      0  600  3.89     3\n",
              "\n",
              "[400 rows x 4 columns]"
            ]
          },
          "execution_count": 25,
          "metadata": {
            "tags": []
          },
          "output_type": "execute_result"
        }
      ],
      "source": [
        "df_admision"
      ]
    },
    {
      "cell_type": "code",
      "execution_count": null,
      "metadata": {
        "id": "0mfZ5JvdtjVF",
        "outputId": "4b2c790d-537b-447d-f4ff-511d47ad4f62"
      },
      "outputs": [
        {
          "name": "stdout",
          "output_type": "stream",
          "text": [
            "<class 'pandas.core.frame.DataFrame'>\n",
            "RangeIndex: 400 entries, 0 to 399\n",
            "Data columns (total 4 columns):\n",
            " #   Column  Non-Null Count  Dtype  \n",
            "---  ------  --------------  -----  \n",
            " 0   admit   400 non-null    int64  \n",
            " 1   gre     400 non-null    int64  \n",
            " 2   gpa     400 non-null    float64\n",
            " 3   rank    400 non-null    int64  \n",
            "dtypes: float64(1), int64(3)\n",
            "memory usage: 12.6 KB\n",
            "None\n"
          ]
        }
      ],
      "source": [
        "print(df_admision.info())"
      ]
    },
    {
      "cell_type": "code",
      "execution_count": null,
      "metadata": {
        "id": "8ak3hhDXG7dS"
      },
      "outputs": [],
      "source": [
        "#Discretizamos las variables GRE y GPA\n",
        "df_admision_d = df_admision.copy()\n",
        "df_admision_d.loc[df_admision['gre'] < 500, 'gre'] = 0\n",
        "df_admision_d.loc[df_admision['gre'] >= 500, 'gre'] = 1\n",
        "df_admision_d.loc[df_admision['gpa'] < 3, 'gpa'] = 0\n",
        "df_admision_d.loc[df_admision['gpa'] >= 3, 'gpa'] = 1\n",
        "df_admision_d = df_admision_d.astype(int)"
      ]
    },
    {
      "cell_type": "code",
      "execution_count": null,
      "metadata": {
        "colab": {
          "base_uri": "https://localhost:8080/",
          "height": 424
        },
        "id": "c_CrNz-uH4L6",
        "outputId": "c3617936-da75-4dec-c480-b9eec03af3a8"
      },
      "outputs": [
        {
          "data": {
            "text/html": [
              "<div>\n",
              "<style scoped>\n",
              "    .dataframe tbody tr th:only-of-type {\n",
              "        vertical-align: middle;\n",
              "    }\n",
              "\n",
              "    .dataframe tbody tr th {\n",
              "        vertical-align: top;\n",
              "    }\n",
              "\n",
              "    .dataframe thead th {\n",
              "        text-align: right;\n",
              "    }\n",
              "</style>\n",
              "<table border=\"1\" class=\"dataframe\">\n",
              "  <thead>\n",
              "    <tr style=\"text-align: right;\">\n",
              "      <th></th>\n",
              "      <th>admit</th>\n",
              "      <th>gre</th>\n",
              "      <th>gpa</th>\n",
              "      <th>rank</th>\n",
              "    </tr>\n",
              "  </thead>\n",
              "  <tbody>\n",
              "    <tr>\n",
              "      <th>0</th>\n",
              "      <td>0</td>\n",
              "      <td>0</td>\n",
              "      <td>1</td>\n",
              "      <td>3</td>\n",
              "    </tr>\n",
              "    <tr>\n",
              "      <th>1</th>\n",
              "      <td>1</td>\n",
              "      <td>1</td>\n",
              "      <td>1</td>\n",
              "      <td>3</td>\n",
              "    </tr>\n",
              "    <tr>\n",
              "      <th>2</th>\n",
              "      <td>1</td>\n",
              "      <td>1</td>\n",
              "      <td>1</td>\n",
              "      <td>1</td>\n",
              "    </tr>\n",
              "    <tr>\n",
              "      <th>3</th>\n",
              "      <td>1</td>\n",
              "      <td>1</td>\n",
              "      <td>1</td>\n",
              "      <td>4</td>\n",
              "    </tr>\n",
              "    <tr>\n",
              "      <th>4</th>\n",
              "      <td>0</td>\n",
              "      <td>1</td>\n",
              "      <td>0</td>\n",
              "      <td>4</td>\n",
              "    </tr>\n",
              "    <tr>\n",
              "      <th>...</th>\n",
              "      <td>...</td>\n",
              "      <td>...</td>\n",
              "      <td>...</td>\n",
              "      <td>...</td>\n",
              "    </tr>\n",
              "    <tr>\n",
              "      <th>395</th>\n",
              "      <td>0</td>\n",
              "      <td>1</td>\n",
              "      <td>1</td>\n",
              "      <td>2</td>\n",
              "    </tr>\n",
              "    <tr>\n",
              "      <th>396</th>\n",
              "      <td>0</td>\n",
              "      <td>1</td>\n",
              "      <td>1</td>\n",
              "      <td>3</td>\n",
              "    </tr>\n",
              "    <tr>\n",
              "      <th>397</th>\n",
              "      <td>0</td>\n",
              "      <td>0</td>\n",
              "      <td>0</td>\n",
              "      <td>2</td>\n",
              "    </tr>\n",
              "    <tr>\n",
              "      <th>398</th>\n",
              "      <td>0</td>\n",
              "      <td>1</td>\n",
              "      <td>1</td>\n",
              "      <td>2</td>\n",
              "    </tr>\n",
              "    <tr>\n",
              "      <th>399</th>\n",
              "      <td>0</td>\n",
              "      <td>1</td>\n",
              "      <td>1</td>\n",
              "      <td>3</td>\n",
              "    </tr>\n",
              "  </tbody>\n",
              "</table>\n",
              "<p>400 rows × 4 columns</p>\n",
              "</div>"
            ],
            "text/plain": [
              "     admit  gre  gpa  rank\n",
              "0        0    0    1     3\n",
              "1        1    1    1     3\n",
              "2        1    1    1     1\n",
              "3        1    1    1     4\n",
              "4        0    1    0     4\n",
              "..     ...  ...  ...   ...\n",
              "395      0    1    1     2\n",
              "396      0    1    1     3\n",
              "397      0    0    0     2\n",
              "398      0    1    1     2\n",
              "399      0    1    1     3\n",
              "\n",
              "[400 rows x 4 columns]"
            ]
          },
          "execution_count": 27,
          "metadata": {
            "tags": []
          },
          "output_type": "execute_result"
        }
      ],
      "source": [
        "df_admision_d"
      ]
    },
    {
      "cell_type": "code",
      "execution_count": null,
      "metadata": {
        "id": "xYgJ-1q8MlDL"
      },
      "outputs": [],
      "source": [
        "#Contruimos las tablas de probabilidades condicionales asociadas\n",
        "\n",
        "p_rank = df_admision_d.loc[:,'rank'].value_counts()\n",
        "p_rank = p_rank/p_rank.sum()\n",
        "\n",
        "#Tabla Rank (nodo raíz)\n",
        "df_rank = p_rank.to_frame(name = 'Probabilidad')\n",
        "df_rank.index.name = 'rank'\n",
        "\n",
        "\n",
        "#Tabla GRE\n",
        "p_gre_0 = df_admision_d.loc[df_admision_d['gre'] == 0, 'rank'].value_counts()\n",
        "p_gre_1 = df_admision_d.loc[df_admision_d['gre'] == 1, 'rank'].value_counts()\n",
        "p_gre_0 = p_gre_0/df_admision_d.loc[:,'rank'].value_counts()\n",
        "p_gre_1 = p_gre_1/df_admision_d.loc[:,'rank'].value_counts()\n",
        "df_gre = p_gre_0.to_frame(name = 'gre<500').join(p_gre_1.to_frame(name='gre>=500'))\n",
        "df_gre.index.name = 'rank'\n",
        "\n",
        "#Tabla GPA\n",
        "p_gpa_0 = df_admision_d.loc[df_admision_d['gpa'] == 0, 'rank'].value_counts()\n",
        "p_gpa_1 = df_admision_d.loc[df_admision_d['gpa'] == 1, 'rank'].value_counts()\n",
        "p_gpa_0 = p_gpa_0/df_admision_d.loc[:,'rank'].value_counts()\n",
        "p_gpa_1 = p_gpa_1/df_admision_d.loc[:,'rank'].value_counts()\n",
        "df_gpa = p_gpa_0.to_frame(name = 'gpa<3').join(p_gpa_1.to_frame(name='gpa>=3'))\n",
        "df_gpa.index.name = 'rank'\n"
      ]
    },
    {
      "cell_type": "markdown",
      "metadata": {
        "id": "KnetSsX_tjVG"
      },
      "source": [
        "Probabilidad a priori de cada rank"
      ]
    },
    {
      "cell_type": "code",
      "execution_count": null,
      "metadata": {
        "colab": {
          "base_uri": "https://localhost:8080/",
          "height": 206
        },
        "id": "C7KtZPM1jXVY",
        "outputId": "464db500-445b-4aee-8374-b9ebdbfef94e"
      },
      "outputs": [
        {
          "data": {
            "text/html": [
              "<div>\n",
              "<style scoped>\n",
              "    .dataframe tbody tr th:only-of-type {\n",
              "        vertical-align: middle;\n",
              "    }\n",
              "\n",
              "    .dataframe tbody tr th {\n",
              "        vertical-align: top;\n",
              "    }\n",
              "\n",
              "    .dataframe thead th {\n",
              "        text-align: right;\n",
              "    }\n",
              "</style>\n",
              "<table border=\"1\" class=\"dataframe\">\n",
              "  <thead>\n",
              "    <tr style=\"text-align: right;\">\n",
              "      <th></th>\n",
              "      <th>Probabilidad</th>\n",
              "    </tr>\n",
              "    <tr>\n",
              "      <th>rank</th>\n",
              "      <th></th>\n",
              "    </tr>\n",
              "  </thead>\n",
              "  <tbody>\n",
              "    <tr>\n",
              "      <th>2</th>\n",
              "      <td>0.3775</td>\n",
              "    </tr>\n",
              "    <tr>\n",
              "      <th>3</th>\n",
              "      <td>0.3025</td>\n",
              "    </tr>\n",
              "    <tr>\n",
              "      <th>4</th>\n",
              "      <td>0.1675</td>\n",
              "    </tr>\n",
              "    <tr>\n",
              "      <th>1</th>\n",
              "      <td>0.1525</td>\n",
              "    </tr>\n",
              "  </tbody>\n",
              "</table>\n",
              "</div>"
            ],
            "text/plain": [
              "      Probabilidad\n",
              "rank              \n",
              "2           0.3775\n",
              "3           0.3025\n",
              "4           0.1675\n",
              "1           0.1525"
            ]
          },
          "execution_count": 29,
          "metadata": {
            "tags": []
          },
          "output_type": "execute_result"
        }
      ],
      "source": [
        "df_rank"
      ]
    },
    {
      "cell_type": "markdown",
      "metadata": {
        "id": "-HvgXxRCtjVG"
      },
      "source": [
        "Probabilidades de gre dado rank"
      ]
    },
    {
      "cell_type": "code",
      "execution_count": null,
      "metadata": {
        "colab": {
          "base_uri": "https://localhost:8080/",
          "height": 206
        },
        "id": "3GHtKM_7jk5z",
        "outputId": "84319e4c-fca7-434a-ac28-2ca72df9752a"
      },
      "outputs": [
        {
          "data": {
            "text/html": [
              "<div>\n",
              "<style scoped>\n",
              "    .dataframe tbody tr th:only-of-type {\n",
              "        vertical-align: middle;\n",
              "    }\n",
              "\n",
              "    .dataframe tbody tr th {\n",
              "        vertical-align: top;\n",
              "    }\n",
              "\n",
              "    .dataframe thead th {\n",
              "        text-align: right;\n",
              "    }\n",
              "</style>\n",
              "<table border=\"1\" class=\"dataframe\">\n",
              "  <thead>\n",
              "    <tr style=\"text-align: right;\">\n",
              "      <th></th>\n",
              "      <th>gre&lt;500</th>\n",
              "      <th>gre&gt;=500</th>\n",
              "    </tr>\n",
              "    <tr>\n",
              "      <th>rank</th>\n",
              "      <th></th>\n",
              "      <th></th>\n",
              "    </tr>\n",
              "  </thead>\n",
              "  <tbody>\n",
              "    <tr>\n",
              "      <th>2</th>\n",
              "      <td>0.185430</td>\n",
              "      <td>0.814570</td>\n",
              "    </tr>\n",
              "    <tr>\n",
              "      <th>3</th>\n",
              "      <td>0.206612</td>\n",
              "      <td>0.793388</td>\n",
              "    </tr>\n",
              "    <tr>\n",
              "      <th>4</th>\n",
              "      <td>0.208955</td>\n",
              "      <td>0.791045</td>\n",
              "    </tr>\n",
              "    <tr>\n",
              "      <th>1</th>\n",
              "      <td>0.180328</td>\n",
              "      <td>0.819672</td>\n",
              "    </tr>\n",
              "  </tbody>\n",
              "</table>\n",
              "</div>"
            ],
            "text/plain": [
              "       gre<500  gre>=500\n",
              "rank                    \n",
              "2     0.185430  0.814570\n",
              "3     0.206612  0.793388\n",
              "4     0.208955  0.791045\n",
              "1     0.180328  0.819672"
            ]
          },
          "execution_count": 30,
          "metadata": {
            "tags": []
          },
          "output_type": "execute_result"
        }
      ],
      "source": [
        "df_gre"
      ]
    },
    {
      "cell_type": "markdown",
      "metadata": {
        "id": "tBWzgA0WtjVH"
      },
      "source": [
        "Probabilidades de gpa dado rank"
      ]
    },
    {
      "cell_type": "code",
      "execution_count": null,
      "metadata": {
        "colab": {
          "base_uri": "https://localhost:8080/",
          "height": 206
        },
        "id": "X8wl3sSnjnWk",
        "outputId": "bca71d85-b2e2-47c6-e9a4-43559925b1bd"
      },
      "outputs": [
        {
          "data": {
            "text/html": [
              "<div>\n",
              "<style scoped>\n",
              "    .dataframe tbody tr th:only-of-type {\n",
              "        vertical-align: middle;\n",
              "    }\n",
              "\n",
              "    .dataframe tbody tr th {\n",
              "        vertical-align: top;\n",
              "    }\n",
              "\n",
              "    .dataframe thead th {\n",
              "        text-align: right;\n",
              "    }\n",
              "</style>\n",
              "<table border=\"1\" class=\"dataframe\">\n",
              "  <thead>\n",
              "    <tr style=\"text-align: right;\">\n",
              "      <th></th>\n",
              "      <th>gpa&lt;3</th>\n",
              "      <th>gpa&gt;=3</th>\n",
              "    </tr>\n",
              "    <tr>\n",
              "      <th>rank</th>\n",
              "      <th></th>\n",
              "      <th></th>\n",
              "    </tr>\n",
              "  </thead>\n",
              "  <tbody>\n",
              "    <tr>\n",
              "      <th>2</th>\n",
              "      <td>0.172185</td>\n",
              "      <td>0.827815</td>\n",
              "    </tr>\n",
              "    <tr>\n",
              "      <th>3</th>\n",
              "      <td>0.165289</td>\n",
              "      <td>0.834711</td>\n",
              "    </tr>\n",
              "    <tr>\n",
              "      <th>4</th>\n",
              "      <td>0.194030</td>\n",
              "      <td>0.805970</td>\n",
              "    </tr>\n",
              "    <tr>\n",
              "      <th>1</th>\n",
              "      <td>0.131148</td>\n",
              "      <td>0.868852</td>\n",
              "    </tr>\n",
              "  </tbody>\n",
              "</table>\n",
              "</div>"
            ],
            "text/plain": [
              "         gpa<3    gpa>=3\n",
              "rank                    \n",
              "2     0.172185  0.827815\n",
              "3     0.165289  0.834711\n",
              "4     0.194030  0.805970\n",
              "1     0.131148  0.868852"
            ]
          },
          "execution_count": 31,
          "metadata": {
            "tags": []
          },
          "output_type": "execute_result"
        }
      ],
      "source": [
        "df_gpa"
      ]
    },
    {
      "cell_type": "code",
      "execution_count": null,
      "metadata": {
        "id": "msHvwg5-Tw1H",
        "scrolled": false
      },
      "outputs": [],
      "source": [
        "#Tabla admitidos\n",
        "\n",
        "p_admit_0 = df_admision_d.loc[df_admision_d['admit']==0]\n",
        "df_admit_0 = p_admit_0.groupby(['rank','gre','gpa']).size()\n",
        "\n",
        "p_admit_1 = df_admision_d.loc[df_admision_d['admit']==1]\n",
        "df_admit_1 = p_admit_1.groupby(['rank','gre','gpa']).size()\n",
        "\n",
        "a=pd.Series([0,0], index=pd.MultiIndex.from_tuples([(3,0,0),(4,0,0)], names=[\"gre\", \"gpa\", \"rank\"]))\n",
        "df_admit_1 = df_admit_1.append(a)\n",
        "\n",
        "df_admit = df_admit_1.to_frame(name = 'admitido').join(df_admit_0.to_frame(name='no admitido'))\n",
        "df_admit = df_admit.fillna(0)\n",
        "df_total= pd.DataFrame(df_admision_d.groupby(['rank','gre','gpa']).size())\n",
        "df_admit['admitido'] = df_admit['admitido']/df_total[0]\n",
        "df_admit['no admitido'] = df_admit['no admitido']/df_total[0]\n"
      ]
    },
    {
      "cell_type": "code",
      "execution_count": null,
      "metadata": {
        "colab": {
          "base_uri": "https://localhost:8080/",
          "height": 583
        },
        "id": "QcV9NPoaj4yq",
        "outputId": "65976853-f099-4ab7-8118-76a5bd78153f"
      },
      "outputs": [
        {
          "data": {
            "text/html": [
              "<div>\n",
              "<style scoped>\n",
              "    .dataframe tbody tr th:only-of-type {\n",
              "        vertical-align: middle;\n",
              "    }\n",
              "\n",
              "    .dataframe tbody tr th {\n",
              "        vertical-align: top;\n",
              "    }\n",
              "\n",
              "    .dataframe thead th {\n",
              "        text-align: right;\n",
              "    }\n",
              "</style>\n",
              "<table border=\"1\" class=\"dataframe\">\n",
              "  <thead>\n",
              "    <tr style=\"text-align: right;\">\n",
              "      <th></th>\n",
              "      <th></th>\n",
              "      <th></th>\n",
              "      <th>admitido</th>\n",
              "      <th>no admitido</th>\n",
              "    </tr>\n",
              "    <tr>\n",
              "      <th>rank</th>\n",
              "      <th>gre</th>\n",
              "      <th>gpa</th>\n",
              "      <th></th>\n",
              "      <th></th>\n",
              "    </tr>\n",
              "  </thead>\n",
              "  <tbody>\n",
              "    <tr>\n",
              "      <th rowspan=\"4\" valign=\"top\">1</th>\n",
              "      <th rowspan=\"2\" valign=\"top\">0</th>\n",
              "      <th>0</th>\n",
              "      <td>0.200000</td>\n",
              "      <td>0.800000</td>\n",
              "    </tr>\n",
              "    <tr>\n",
              "      <th>1</th>\n",
              "      <td>0.500000</td>\n",
              "      <td>0.500000</td>\n",
              "    </tr>\n",
              "    <tr>\n",
              "      <th rowspan=\"2\" valign=\"top\">1</th>\n",
              "      <th>0</th>\n",
              "      <td>1.000000</td>\n",
              "      <td>0.000000</td>\n",
              "    </tr>\n",
              "    <tr>\n",
              "      <th>1</th>\n",
              "      <td>0.553191</td>\n",
              "      <td>0.446809</td>\n",
              "    </tr>\n",
              "    <tr>\n",
              "      <th rowspan=\"4\" valign=\"top\">2</th>\n",
              "      <th rowspan=\"2\" valign=\"top\">0</th>\n",
              "      <th>0</th>\n",
              "      <td>0.428571</td>\n",
              "      <td>0.571429</td>\n",
              "    </tr>\n",
              "    <tr>\n",
              "      <th>1</th>\n",
              "      <td>0.190476</td>\n",
              "      <td>0.809524</td>\n",
              "    </tr>\n",
              "    <tr>\n",
              "      <th rowspan=\"2\" valign=\"top\">1</th>\n",
              "      <th>0</th>\n",
              "      <td>0.157895</td>\n",
              "      <td>0.842105</td>\n",
              "    </tr>\n",
              "    <tr>\n",
              "      <th>1</th>\n",
              "      <td>0.423077</td>\n",
              "      <td>0.576923</td>\n",
              "    </tr>\n",
              "    <tr>\n",
              "      <th rowspan=\"3\" valign=\"top\">3</th>\n",
              "      <th>0</th>\n",
              "      <th>1</th>\n",
              "      <td>0.187500</td>\n",
              "      <td>0.812500</td>\n",
              "    </tr>\n",
              "    <tr>\n",
              "      <th rowspan=\"2\" valign=\"top\">1</th>\n",
              "      <th>0</th>\n",
              "      <td>0.363636</td>\n",
              "      <td>0.636364</td>\n",
              "    </tr>\n",
              "    <tr>\n",
              "      <th>1</th>\n",
              "      <td>0.247059</td>\n",
              "      <td>0.752941</td>\n",
              "    </tr>\n",
              "    <tr>\n",
              "      <th rowspan=\"3\" valign=\"top\">4</th>\n",
              "      <th>0</th>\n",
              "      <th>1</th>\n",
              "      <td>0.200000</td>\n",
              "      <td>0.800000</td>\n",
              "    </tr>\n",
              "    <tr>\n",
              "      <th rowspan=\"2\" valign=\"top\">1</th>\n",
              "      <th>0</th>\n",
              "      <td>0.111111</td>\n",
              "      <td>0.888889</td>\n",
              "    </tr>\n",
              "    <tr>\n",
              "      <th>1</th>\n",
              "      <td>0.204545</td>\n",
              "      <td>0.795455</td>\n",
              "    </tr>\n",
              "    <tr>\n",
              "      <th>3</th>\n",
              "      <th>0</th>\n",
              "      <th>0</th>\n",
              "      <td>0.000000</td>\n",
              "      <td>1.000000</td>\n",
              "    </tr>\n",
              "    <tr>\n",
              "      <th>4</th>\n",
              "      <th>0</th>\n",
              "      <th>0</th>\n",
              "      <td>0.000000</td>\n",
              "      <td>1.000000</td>\n",
              "    </tr>\n",
              "  </tbody>\n",
              "</table>\n",
              "</div>"
            ],
            "text/plain": [
              "              admitido  no admitido\n",
              "rank gre gpa                       \n",
              "1    0   0    0.200000     0.800000\n",
              "         1    0.500000     0.500000\n",
              "     1   0    1.000000     0.000000\n",
              "         1    0.553191     0.446809\n",
              "2    0   0    0.428571     0.571429\n",
              "         1    0.190476     0.809524\n",
              "     1   0    0.157895     0.842105\n",
              "         1    0.423077     0.576923\n",
              "3    0   1    0.187500     0.812500\n",
              "     1   0    0.363636     0.636364\n",
              "         1    0.247059     0.752941\n",
              "4    0   1    0.200000     0.800000\n",
              "     1   0    0.111111     0.888889\n",
              "         1    0.204545     0.795455\n",
              "3    0   0    0.000000     1.000000\n",
              "4    0   0    0.000000     1.000000"
            ]
          },
          "execution_count": 33,
          "metadata": {
            "tags": []
          },
          "output_type": "execute_result"
        }
      ],
      "source": [
        "df_admit"
      ]
    },
    {
      "cell_type": "markdown",
      "metadata": {
        "id": "iN7gwix6j7q_"
      },
      "source": [
        "## Parte a\n",
        "Probabilidad de no ser admitido dado ranking 1:\n",
        "\n",
        "$P(admit=0|rank=1)=P(admit=0,rank=1)/P(rank=1)$"
      ]
    },
    {
      "cell_type": "code",
      "execution_count": null,
      "metadata": {
        "colab": {
          "base_uri": "https://localhost:8080/",
          "height": 54
        },
        "id": "MrOgo5V_gmhP",
        "outputId": "f87b2bac-067e-4ae6-ccbe-c8b253e072a4"
      },
      "outputs": [
        {
          "name": "stdout",
          "output_type": "stream",
          "text": [
            "Probabilidad    0.42\n",
            "Name: 1, dtype: float64\n"
          ]
        }
      ],
      "source": [
        "num = df_rank.loc[1]*(df_gre.loc[1,'gre>=500']*df_gpa.loc[1,'gpa>=3']*df_admit.loc[(1,1,1),'no admitido'] + df_gre.loc[1,'gre>=500']*df_gpa.loc[1,'gpa<3']*df_admit.loc[(1,1,0),'no admitido'] + df_gre.loc[1,'gre<500']*df_gpa.loc[1,'gpa>=3']*df_admit.loc[(1,0,1),'no admitido']+df_gre.loc[1,'gre<500']*df_gpa.loc[1,'gpa<3']*df_admit.loc[(1,0,0),'no admitido'])\n",
        "den= df_rank.loc[1]\n",
        "print((num/den).round(2)) "
      ]
    },
    {
      "cell_type": "markdown",
      "metadata": {
        "id": "3Xb9ugWbrBXT"
      },
      "source": [
        "## Parte b\n",
        "Probabilidad de ser admitido dado ranking 2, gre 450 y gpa 3.5. Aplicando la discretización: gre->0 y gpa->1.\n",
        "\n",
        "$P(admit=1|rank = 2,gre=0, gpa=1)=\\frac{P(admit=1,rank=2,gre=0,gpa=1)}{P(rank=2,gre=0,gpa=1)}$"
      ]
    },
    {
      "cell_type": "code",
      "execution_count": null,
      "metadata": {
        "colab": {
          "base_uri": "https://localhost:8080/",
          "height": 54
        },
        "id": "WTbYM-yMFD89",
        "outputId": "321a70fa-8d13-400a-be70-575da491f204"
      },
      "outputs": [
        {
          "name": "stdout",
          "output_type": "stream",
          "text": [
            "Probabilidad    0.19\n",
            "Name: 2, dtype: float64\n"
          ]
        }
      ],
      "source": [
        "num= df_rank.loc[2]*df_gre.loc[2,'gre<500']*df_gpa.loc[2,'gpa>=3']*df_admit.loc[(2,0,1),'admitido']\n",
        "den= df_rank.loc[2]*df_gre.loc[2,'gre<500']*df_gpa.loc[2,'gpa>=3']\n",
        "print((num/den).round(2))"
      ]
    },
    {
      "cell_type": "markdown",
      "metadata": {
        "id": "6g-VMdkntjVI"
      },
      "source": [
        "## Parte c\n",
        "El proceso de aprendizaje se da al calcular las probabilidades a posteriori a partir de los datos de train (dataframe df_admit)."
      ]
    },
    {
      "cell_type": "code",
      "execution_count": null,
      "metadata": {
        "id": "TJA4y4vAtjVJ"
      },
      "outputs": [],
      "source": [
        ""
      ]
    }
  ],
  "metadata": {
    "colab": {
      "name": "NaiveBayesClassifier.ipynb",
      "provenance": []
    },
    "kernelspec": {
      "display_name": "Python 3",
      "language": "python",
      "name": "python3"
    },
    "language_info": {
      "codemirror_mode": {
        "name": "ipython",
        "version": 3
      },
      "file_extension": ".py",
      "mimetype": "text/x-python",
      "name": "python",
      "nbconvert_exporter": "python",
      "pygments_lexer": "ipython3",
      "version": "3.7.1"
    }
  },
  "nbformat": 4,
  "nbformat_minor": 0
}